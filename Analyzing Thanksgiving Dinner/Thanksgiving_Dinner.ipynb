{
 "cells": [
  {
   "cell_type": "markdown",
   "metadata": {
    "collapsed": true
   },
   "source": [
    "# Thanksgiving Dinner"
   ]
  },
  {
   "cell_type": "markdown",
   "metadata": {},
   "source": [
    "## Load Data"
   ]
  },
  {
   "cell_type": "code",
   "execution_count": 172,
   "metadata": {
    "collapsed": false
   },
   "outputs": [
    {
     "data": {
      "text/html": [
       "<div>\n",
       "<style>\n",
       "    .dataframe thead tr:only-child th {\n",
       "        text-align: right;\n",
       "    }\n",
       "\n",
       "    .dataframe thead th {\n",
       "        text-align: left;\n",
       "    }\n",
       "\n",
       "    .dataframe tbody tr th {\n",
       "        vertical-align: top;\n",
       "    }\n",
       "</style>\n",
       "<table border=\"1\" class=\"dataframe\">\n",
       "  <thead>\n",
       "    <tr style=\"text-align: right;\">\n",
       "      <th></th>\n",
       "      <th>RespondentID</th>\n",
       "      <th>Do you celebrate Thanksgiving?</th>\n",
       "      <th>What is typically the main dish at your Thanksgiving dinner?</th>\n",
       "      <th>What is typically the main dish at your Thanksgiving dinner? - Other (please specify)</th>\n",
       "      <th>How is the main dish typically cooked?</th>\n",
       "      <th>How is the main dish typically cooked? - Other (please specify)</th>\n",
       "      <th>What kind of stuffing/dressing do you typically have?</th>\n",
       "      <th>What kind of stuffing/dressing do you typically have? - Other (please specify)</th>\n",
       "      <th>What type of cranberry saucedo you typically have?</th>\n",
       "      <th>What type of cranberry saucedo you typically have? - Other (please specify)</th>\n",
       "      <th>...</th>\n",
       "      <th>Have you ever tried to meet up with hometown friends on Thanksgiving night?</th>\n",
       "      <th>Have you ever attended a \"Friendsgiving?\"</th>\n",
       "      <th>Will you shop any Black Friday sales on Thanksgiving Day?</th>\n",
       "      <th>Do you work in retail?</th>\n",
       "      <th>Will you employer make you work on Black Friday?</th>\n",
       "      <th>How would you describe where you live?</th>\n",
       "      <th>Age</th>\n",
       "      <th>What is your gender?</th>\n",
       "      <th>How much total combined money did all members of your HOUSEHOLD earn last year?</th>\n",
       "      <th>US Region</th>\n",
       "    </tr>\n",
       "  </thead>\n",
       "  <tbody>\n",
       "    <tr>\n",
       "      <th>0</th>\n",
       "      <td>4337954960</td>\n",
       "      <td>Yes</td>\n",
       "      <td>Turkey</td>\n",
       "      <td>NaN</td>\n",
       "      <td>Baked</td>\n",
       "      <td>NaN</td>\n",
       "      <td>Bread-based</td>\n",
       "      <td>NaN</td>\n",
       "      <td>None</td>\n",
       "      <td>NaN</td>\n",
       "      <td>...</td>\n",
       "      <td>Yes</td>\n",
       "      <td>No</td>\n",
       "      <td>No</td>\n",
       "      <td>No</td>\n",
       "      <td>NaN</td>\n",
       "      <td>Suburban</td>\n",
       "      <td>18 - 29</td>\n",
       "      <td>Male</td>\n",
       "      <td>$75,000 to $99,999</td>\n",
       "      <td>Middle Atlantic</td>\n",
       "    </tr>\n",
       "    <tr>\n",
       "      <th>1</th>\n",
       "      <td>4337951949</td>\n",
       "      <td>Yes</td>\n",
       "      <td>Turkey</td>\n",
       "      <td>NaN</td>\n",
       "      <td>Baked</td>\n",
       "      <td>NaN</td>\n",
       "      <td>Bread-based</td>\n",
       "      <td>NaN</td>\n",
       "      <td>Other (please specify)</td>\n",
       "      <td>Homemade cranberry gelatin ring</td>\n",
       "      <td>...</td>\n",
       "      <td>No</td>\n",
       "      <td>No</td>\n",
       "      <td>Yes</td>\n",
       "      <td>No</td>\n",
       "      <td>NaN</td>\n",
       "      <td>Rural</td>\n",
       "      <td>18 - 29</td>\n",
       "      <td>Female</td>\n",
       "      <td>$50,000 to $74,999</td>\n",
       "      <td>East South Central</td>\n",
       "    </tr>\n",
       "    <tr>\n",
       "      <th>2</th>\n",
       "      <td>4337935621</td>\n",
       "      <td>Yes</td>\n",
       "      <td>Turkey</td>\n",
       "      <td>NaN</td>\n",
       "      <td>Roasted</td>\n",
       "      <td>NaN</td>\n",
       "      <td>Rice-based</td>\n",
       "      <td>NaN</td>\n",
       "      <td>Homemade</td>\n",
       "      <td>NaN</td>\n",
       "      <td>...</td>\n",
       "      <td>Yes</td>\n",
       "      <td>Yes</td>\n",
       "      <td>Yes</td>\n",
       "      <td>No</td>\n",
       "      <td>NaN</td>\n",
       "      <td>Suburban</td>\n",
       "      <td>18 - 29</td>\n",
       "      <td>Male</td>\n",
       "      <td>$0 to $9,999</td>\n",
       "      <td>Mountain</td>\n",
       "    </tr>\n",
       "    <tr>\n",
       "      <th>3</th>\n",
       "      <td>4337933040</td>\n",
       "      <td>Yes</td>\n",
       "      <td>Turkey</td>\n",
       "      <td>NaN</td>\n",
       "      <td>Baked</td>\n",
       "      <td>NaN</td>\n",
       "      <td>Bread-based</td>\n",
       "      <td>NaN</td>\n",
       "      <td>Homemade</td>\n",
       "      <td>NaN</td>\n",
       "      <td>...</td>\n",
       "      <td>Yes</td>\n",
       "      <td>No</td>\n",
       "      <td>No</td>\n",
       "      <td>No</td>\n",
       "      <td>NaN</td>\n",
       "      <td>Urban</td>\n",
       "      <td>30 - 44</td>\n",
       "      <td>Male</td>\n",
       "      <td>$200,000 and up</td>\n",
       "      <td>Pacific</td>\n",
       "    </tr>\n",
       "    <tr>\n",
       "      <th>4</th>\n",
       "      <td>4337931983</td>\n",
       "      <td>Yes</td>\n",
       "      <td>Tofurkey</td>\n",
       "      <td>NaN</td>\n",
       "      <td>Baked</td>\n",
       "      <td>NaN</td>\n",
       "      <td>Bread-based</td>\n",
       "      <td>NaN</td>\n",
       "      <td>Canned</td>\n",
       "      <td>NaN</td>\n",
       "      <td>...</td>\n",
       "      <td>Yes</td>\n",
       "      <td>No</td>\n",
       "      <td>No</td>\n",
       "      <td>No</td>\n",
       "      <td>NaN</td>\n",
       "      <td>Urban</td>\n",
       "      <td>30 - 44</td>\n",
       "      <td>Male</td>\n",
       "      <td>$100,000 to $124,999</td>\n",
       "      <td>Pacific</td>\n",
       "    </tr>\n",
       "  </tbody>\n",
       "</table>\n",
       "<p>5 rows × 65 columns</p>\n",
       "</div>"
      ],
      "text/plain": [
       "   RespondentID Do you celebrate Thanksgiving?  \\\n",
       "0    4337954960                            Yes   \n",
       "1    4337951949                            Yes   \n",
       "2    4337935621                            Yes   \n",
       "3    4337933040                            Yes   \n",
       "4    4337931983                            Yes   \n",
       "\n",
       "  What is typically the main dish at your Thanksgiving dinner?  \\\n",
       "0                                             Turkey             \n",
       "1                                             Turkey             \n",
       "2                                             Turkey             \n",
       "3                                             Turkey             \n",
       "4                                           Tofurkey             \n",
       "\n",
       "  What is typically the main dish at your Thanksgiving dinner? - Other (please specify)  \\\n",
       "0                                                NaN                                      \n",
       "1                                                NaN                                      \n",
       "2                                                NaN                                      \n",
       "3                                                NaN                                      \n",
       "4                                                NaN                                      \n",
       "\n",
       "  How is the main dish typically cooked?  \\\n",
       "0                                  Baked   \n",
       "1                                  Baked   \n",
       "2                                Roasted   \n",
       "3                                  Baked   \n",
       "4                                  Baked   \n",
       "\n",
       "  How is the main dish typically cooked? - Other (please specify)  \\\n",
       "0                                                NaN                \n",
       "1                                                NaN                \n",
       "2                                                NaN                \n",
       "3                                                NaN                \n",
       "4                                                NaN                \n",
       "\n",
       "  What kind of stuffing/dressing do you typically have?  \\\n",
       "0                                        Bread-based      \n",
       "1                                        Bread-based      \n",
       "2                                         Rice-based      \n",
       "3                                        Bread-based      \n",
       "4                                        Bread-based      \n",
       "\n",
       "  What kind of stuffing/dressing do you typically have? - Other (please specify)  \\\n",
       "0                                                NaN                               \n",
       "1                                                NaN                               \n",
       "2                                                NaN                               \n",
       "3                                                NaN                               \n",
       "4                                                NaN                               \n",
       "\n",
       "  What type of cranberry saucedo you typically have?  \\\n",
       "0                                               None   \n",
       "1                             Other (please specify)   \n",
       "2                                           Homemade   \n",
       "3                                           Homemade   \n",
       "4                                             Canned   \n",
       "\n",
       "  What type of cranberry saucedo you typically have? - Other (please specify)  \\\n",
       "0                                                NaN                            \n",
       "1                    Homemade cranberry gelatin ring                            \n",
       "2                                                NaN                            \n",
       "3                                                NaN                            \n",
       "4                                                NaN                            \n",
       "\n",
       "          ...          \\\n",
       "0         ...           \n",
       "1         ...           \n",
       "2         ...           \n",
       "3         ...           \n",
       "4         ...           \n",
       "\n",
       "  Have you ever tried to meet up with hometown friends on Thanksgiving night?  \\\n",
       "0                                                Yes                            \n",
       "1                                                 No                            \n",
       "2                                                Yes                            \n",
       "3                                                Yes                            \n",
       "4                                                Yes                            \n",
       "\n",
       "  Have you ever attended a \"Friendsgiving?\"  \\\n",
       "0                                        No   \n",
       "1                                        No   \n",
       "2                                       Yes   \n",
       "3                                        No   \n",
       "4                                        No   \n",
       "\n",
       "  Will you shop any Black Friday sales on Thanksgiving Day?  \\\n",
       "0                                                 No          \n",
       "1                                                Yes          \n",
       "2                                                Yes          \n",
       "3                                                 No          \n",
       "4                                                 No          \n",
       "\n",
       "  Do you work in retail? Will you employer make you work on Black Friday?  \\\n",
       "0                     No                                              NaN   \n",
       "1                     No                                              NaN   \n",
       "2                     No                                              NaN   \n",
       "3                     No                                              NaN   \n",
       "4                     No                                              NaN   \n",
       "\n",
       "  How would you describe where you live?      Age What is your gender?  \\\n",
       "0                               Suburban  18 - 29                 Male   \n",
       "1                                  Rural  18 - 29               Female   \n",
       "2                               Suburban  18 - 29                 Male   \n",
       "3                                  Urban  30 - 44                 Male   \n",
       "4                                  Urban  30 - 44                 Male   \n",
       "\n",
       "  How much total combined money did all members of your HOUSEHOLD earn last year?  \\\n",
       "0                                 $75,000 to $99,999                                \n",
       "1                                 $50,000 to $74,999                                \n",
       "2                                       $0 to $9,999                                \n",
       "3                                    $200,000 and up                                \n",
       "4                               $100,000 to $124,999                                \n",
       "\n",
       "            US Region  \n",
       "0     Middle Atlantic  \n",
       "1  East South Central  \n",
       "2            Mountain  \n",
       "3             Pacific  \n",
       "4             Pacific  \n",
       "\n",
       "[5 rows x 65 columns]"
      ]
     },
     "execution_count": 172,
     "metadata": {},
     "output_type": "execute_result"
    }
   ],
   "source": [
    "import pandas as pd\n",
    "\n",
    "data = pd.read_csv(\"thanksgiving.csv\", encoding=\"Latin-1\")\n",
    "\n",
    "data.head()"
   ]
  },
  {
   "cell_type": "code",
   "execution_count": 173,
   "metadata": {
    "collapsed": false,
    "scrolled": false
   },
   "outputs": [
    {
     "data": {
      "text/plain": [
       "['RespondentID',\n",
       " 'Do you celebrate Thanksgiving?',\n",
       " 'What is typically the main dish at your Thanksgiving dinner?',\n",
       " 'What is typically the main dish at your Thanksgiving dinner? - Other (please specify)',\n",
       " 'How is the main dish typically cooked?',\n",
       " 'How is the main dish typically cooked? - Other (please specify)',\n",
       " 'What kind of stuffing/dressing do you typically have?',\n",
       " 'What kind of stuffing/dressing do you typically have? - Other (please specify)',\n",
       " 'What type of cranberry saucedo you typically have?',\n",
       " 'What type of cranberry saucedo you typically have? - Other (please specify)',\n",
       " 'Do you typically have gravy?',\n",
       " 'Which of these side dishes aretypically served at your Thanksgiving dinner? Please select all that apply. - Brussel sprouts',\n",
       " 'Which of these side dishes aretypically served at your Thanksgiving dinner? Please select all that apply. - Carrots',\n",
       " 'Which of these side dishes aretypically served at your Thanksgiving dinner? Please select all that apply. - Cauliflower',\n",
       " 'Which of these side dishes aretypically served at your Thanksgiving dinner? Please select all that apply. - Corn',\n",
       " 'Which of these side dishes aretypically served at your Thanksgiving dinner? Please select all that apply. - Cornbread',\n",
       " 'Which of these side dishes aretypically served at your Thanksgiving dinner? Please select all that apply. - Fruit salad',\n",
       " 'Which of these side dishes aretypically served at your Thanksgiving dinner? Please select all that apply. - Green beans/green bean casserole',\n",
       " 'Which of these side dishes aretypically served at your Thanksgiving dinner? Please select all that apply. - Macaroni and cheese',\n",
       " 'Which of these side dishes aretypically served at your Thanksgiving dinner? Please select all that apply. - Mashed potatoes',\n",
       " 'Which of these side dishes aretypically served at your Thanksgiving dinner? Please select all that apply. - Rolls/biscuits',\n",
       " 'Which of these side dishes aretypically served at your Thanksgiving dinner? Please select all that apply. - Squash',\n",
       " 'Which of these side dishes aretypically served at your Thanksgiving dinner? Please select all that apply. - Vegetable salad',\n",
       " 'Which of these side dishes aretypically served at your Thanksgiving dinner? Please select all that apply. - Yams/sweet potato casserole',\n",
       " 'Which of these side dishes aretypically served at your Thanksgiving dinner? Please select all that apply. - Other (please specify)',\n",
       " 'Which of these side dishes aretypically served at your Thanksgiving dinner? Please select all that apply. - Other (please specify).1',\n",
       " 'Which type of pie is typically served at your Thanksgiving dinner? Please select all that apply. - Apple',\n",
       " 'Which type of pie is typically served at your Thanksgiving dinner? Please select all that apply. - Buttermilk',\n",
       " 'Which type of pie is typically served at your Thanksgiving dinner? Please select all that apply. - Cherry',\n",
       " 'Which type of pie is typically served at your Thanksgiving dinner? Please select all that apply. - Chocolate',\n",
       " 'Which type of pie is typically served at your Thanksgiving dinner? Please select all that apply. - Coconut cream',\n",
       " 'Which type of pie is typically served at your Thanksgiving dinner? Please select all that apply. - Key lime',\n",
       " 'Which type of pie is typically served at your Thanksgiving dinner? Please select all that apply. - Peach',\n",
       " 'Which type of pie is typically served at your Thanksgiving dinner? Please select all that apply. - Pecan',\n",
       " 'Which type of pie is typically served at your Thanksgiving dinner? Please select all that apply. - Pumpkin',\n",
       " 'Which type of pie is typically served at your Thanksgiving dinner? Please select all that apply. - Sweet Potato',\n",
       " 'Which type of pie is typically served at your Thanksgiving dinner? Please select all that apply. - None',\n",
       " 'Which type of pie is typically served at your Thanksgiving dinner? Please select all that apply. - Other (please specify)',\n",
       " 'Which type of pie is typically served at your Thanksgiving dinner? Please select all that apply. - Other (please specify).1',\n",
       " 'Which of these desserts do you typically have at Thanksgiving dinner? Please select all that apply.   - Apple cobbler',\n",
       " 'Which of these desserts do you typically have at Thanksgiving dinner? Please select all that apply.   - Blondies',\n",
       " 'Which of these desserts do you typically have at Thanksgiving dinner? Please select all that apply.   - Brownies',\n",
       " 'Which of these desserts do you typically have at Thanksgiving dinner? Please select all that apply.   - Carrot cake',\n",
       " 'Which of these desserts do you typically have at Thanksgiving dinner? Please select all that apply.   - Cheesecake',\n",
       " 'Which of these desserts do you typically have at Thanksgiving dinner? Please select all that apply.   - Cookies',\n",
       " 'Which of these desserts do you typically have at Thanksgiving dinner? Please select all that apply.   - Fudge',\n",
       " 'Which of these desserts do you typically have at Thanksgiving dinner? Please select all that apply.   - Ice cream',\n",
       " 'Which of these desserts do you typically have at Thanksgiving dinner? Please select all that apply.   - Peach cobbler',\n",
       " 'Which of these desserts do you typically have at Thanksgiving dinner? Please select all that apply.   - None',\n",
       " 'Which of these desserts do you typically have at Thanksgiving dinner? Please select all that apply.   - Other (please specify)',\n",
       " 'Which of these desserts do you typically have at Thanksgiving dinner? Please select all that apply.   - Other (please specify).1',\n",
       " 'Do you typically pray before or after the Thanksgiving meal?',\n",
       " 'How far will you travel for Thanksgiving?',\n",
       " \"Will you watch any of the following programs on Thanksgiving? Please select all that apply. - Macy's Parade\",\n",
       " 'What\\'s the age cutoff at your \"kids\\' table\" at Thanksgiving?',\n",
       " 'Have you ever tried to meet up with hometown friends on Thanksgiving night?',\n",
       " 'Have you ever attended a \"Friendsgiving?\"',\n",
       " 'Will you shop any Black Friday sales on Thanksgiving Day?',\n",
       " 'Do you work in retail?',\n",
       " 'Will you employer make you work on Black Friday?',\n",
       " 'How would you describe where you live?',\n",
       " 'Age',\n",
       " 'What is your gender?',\n",
       " 'How much total combined money did all members of your HOUSEHOLD earn last year?',\n",
       " 'US Region']"
      ]
     },
     "execution_count": 173,
     "metadata": {},
     "output_type": "execute_result"
    }
   ],
   "source": [
    "list(data.columns.values)"
   ]
  },
  {
   "cell_type": "markdown",
   "metadata": {},
   "source": [
    "### Identify who celebrates Thanksgiving"
   ]
  },
  {
   "cell_type": "code",
   "execution_count": 174,
   "metadata": {
    "collapsed": false
   },
   "outputs": [
    {
     "data": {
      "text/plain": [
       "Do you celebrate Thanksgiving?\n",
       "No      78\n",
       "Yes    980\n",
       "dtype: int64"
      ]
     },
     "execution_count": 174,
     "metadata": {},
     "output_type": "execute_result"
    }
   ],
   "source": [
    "data.groupby('Do you celebrate Thanksgiving?').size()"
   ]
  },
  {
   "cell_type": "code",
   "execution_count": 175,
   "metadata": {
    "collapsed": false
   },
   "outputs": [
    {
     "data": {
      "text/html": [
       "<div>\n",
       "<style>\n",
       "    .dataframe thead tr:only-child th {\n",
       "        text-align: right;\n",
       "    }\n",
       "\n",
       "    .dataframe thead th {\n",
       "        text-align: left;\n",
       "    }\n",
       "\n",
       "    .dataframe tbody tr th {\n",
       "        vertical-align: top;\n",
       "    }\n",
       "</style>\n",
       "<table border=\"1\" class=\"dataframe\">\n",
       "  <thead>\n",
       "    <tr style=\"text-align: right;\">\n",
       "      <th></th>\n",
       "      <th>RespondentID</th>\n",
       "      <th>Do you celebrate Thanksgiving?</th>\n",
       "      <th>What is typically the main dish at your Thanksgiving dinner?</th>\n",
       "      <th>What is typically the main dish at your Thanksgiving dinner? - Other (please specify)</th>\n",
       "      <th>How is the main dish typically cooked?</th>\n",
       "      <th>How is the main dish typically cooked? - Other (please specify)</th>\n",
       "      <th>What kind of stuffing/dressing do you typically have?</th>\n",
       "      <th>What kind of stuffing/dressing do you typically have? - Other (please specify)</th>\n",
       "      <th>What type of cranberry saucedo you typically have?</th>\n",
       "      <th>What type of cranberry saucedo you typically have? - Other (please specify)</th>\n",
       "      <th>...</th>\n",
       "      <th>Have you ever tried to meet up with hometown friends on Thanksgiving night?</th>\n",
       "      <th>Have you ever attended a \"Friendsgiving?\"</th>\n",
       "      <th>Will you shop any Black Friday sales on Thanksgiving Day?</th>\n",
       "      <th>Do you work in retail?</th>\n",
       "      <th>Will you employer make you work on Black Friday?</th>\n",
       "      <th>How would you describe where you live?</th>\n",
       "      <th>Age</th>\n",
       "      <th>What is your gender?</th>\n",
       "      <th>How much total combined money did all members of your HOUSEHOLD earn last year?</th>\n",
       "      <th>US Region</th>\n",
       "    </tr>\n",
       "  </thead>\n",
       "  <tbody>\n",
       "    <tr>\n",
       "      <th>0</th>\n",
       "      <td>4337954960</td>\n",
       "      <td>Yes</td>\n",
       "      <td>Turkey</td>\n",
       "      <td>NaN</td>\n",
       "      <td>Baked</td>\n",
       "      <td>NaN</td>\n",
       "      <td>Bread-based</td>\n",
       "      <td>NaN</td>\n",
       "      <td>None</td>\n",
       "      <td>NaN</td>\n",
       "      <td>...</td>\n",
       "      <td>Yes</td>\n",
       "      <td>No</td>\n",
       "      <td>No</td>\n",
       "      <td>No</td>\n",
       "      <td>NaN</td>\n",
       "      <td>Suburban</td>\n",
       "      <td>18 - 29</td>\n",
       "      <td>Male</td>\n",
       "      <td>$75,000 to $99,999</td>\n",
       "      <td>Middle Atlantic</td>\n",
       "    </tr>\n",
       "    <tr>\n",
       "      <th>1</th>\n",
       "      <td>4337951949</td>\n",
       "      <td>Yes</td>\n",
       "      <td>Turkey</td>\n",
       "      <td>NaN</td>\n",
       "      <td>Baked</td>\n",
       "      <td>NaN</td>\n",
       "      <td>Bread-based</td>\n",
       "      <td>NaN</td>\n",
       "      <td>Other (please specify)</td>\n",
       "      <td>Homemade cranberry gelatin ring</td>\n",
       "      <td>...</td>\n",
       "      <td>No</td>\n",
       "      <td>No</td>\n",
       "      <td>Yes</td>\n",
       "      <td>No</td>\n",
       "      <td>NaN</td>\n",
       "      <td>Rural</td>\n",
       "      <td>18 - 29</td>\n",
       "      <td>Female</td>\n",
       "      <td>$50,000 to $74,999</td>\n",
       "      <td>East South Central</td>\n",
       "    </tr>\n",
       "    <tr>\n",
       "      <th>2</th>\n",
       "      <td>4337935621</td>\n",
       "      <td>Yes</td>\n",
       "      <td>Turkey</td>\n",
       "      <td>NaN</td>\n",
       "      <td>Roasted</td>\n",
       "      <td>NaN</td>\n",
       "      <td>Rice-based</td>\n",
       "      <td>NaN</td>\n",
       "      <td>Homemade</td>\n",
       "      <td>NaN</td>\n",
       "      <td>...</td>\n",
       "      <td>Yes</td>\n",
       "      <td>Yes</td>\n",
       "      <td>Yes</td>\n",
       "      <td>No</td>\n",
       "      <td>NaN</td>\n",
       "      <td>Suburban</td>\n",
       "      <td>18 - 29</td>\n",
       "      <td>Male</td>\n",
       "      <td>$0 to $9,999</td>\n",
       "      <td>Mountain</td>\n",
       "    </tr>\n",
       "    <tr>\n",
       "      <th>3</th>\n",
       "      <td>4337933040</td>\n",
       "      <td>Yes</td>\n",
       "      <td>Turkey</td>\n",
       "      <td>NaN</td>\n",
       "      <td>Baked</td>\n",
       "      <td>NaN</td>\n",
       "      <td>Bread-based</td>\n",
       "      <td>NaN</td>\n",
       "      <td>Homemade</td>\n",
       "      <td>NaN</td>\n",
       "      <td>...</td>\n",
       "      <td>Yes</td>\n",
       "      <td>No</td>\n",
       "      <td>No</td>\n",
       "      <td>No</td>\n",
       "      <td>NaN</td>\n",
       "      <td>Urban</td>\n",
       "      <td>30 - 44</td>\n",
       "      <td>Male</td>\n",
       "      <td>$200,000 and up</td>\n",
       "      <td>Pacific</td>\n",
       "    </tr>\n",
       "    <tr>\n",
       "      <th>4</th>\n",
       "      <td>4337931983</td>\n",
       "      <td>Yes</td>\n",
       "      <td>Tofurkey</td>\n",
       "      <td>NaN</td>\n",
       "      <td>Baked</td>\n",
       "      <td>NaN</td>\n",
       "      <td>Bread-based</td>\n",
       "      <td>NaN</td>\n",
       "      <td>Canned</td>\n",
       "      <td>NaN</td>\n",
       "      <td>...</td>\n",
       "      <td>Yes</td>\n",
       "      <td>No</td>\n",
       "      <td>No</td>\n",
       "      <td>No</td>\n",
       "      <td>NaN</td>\n",
       "      <td>Urban</td>\n",
       "      <td>30 - 44</td>\n",
       "      <td>Male</td>\n",
       "      <td>$100,000 to $124,999</td>\n",
       "      <td>Pacific</td>\n",
       "    </tr>\n",
       "  </tbody>\n",
       "</table>\n",
       "<p>5 rows × 65 columns</p>\n",
       "</div>"
      ],
      "text/plain": [
       "   RespondentID Do you celebrate Thanksgiving?  \\\n",
       "0    4337954960                            Yes   \n",
       "1    4337951949                            Yes   \n",
       "2    4337935621                            Yes   \n",
       "3    4337933040                            Yes   \n",
       "4    4337931983                            Yes   \n",
       "\n",
       "  What is typically the main dish at your Thanksgiving dinner?  \\\n",
       "0                                             Turkey             \n",
       "1                                             Turkey             \n",
       "2                                             Turkey             \n",
       "3                                             Turkey             \n",
       "4                                           Tofurkey             \n",
       "\n",
       "  What is typically the main dish at your Thanksgiving dinner? - Other (please specify)  \\\n",
       "0                                                NaN                                      \n",
       "1                                                NaN                                      \n",
       "2                                                NaN                                      \n",
       "3                                                NaN                                      \n",
       "4                                                NaN                                      \n",
       "\n",
       "  How is the main dish typically cooked?  \\\n",
       "0                                  Baked   \n",
       "1                                  Baked   \n",
       "2                                Roasted   \n",
       "3                                  Baked   \n",
       "4                                  Baked   \n",
       "\n",
       "  How is the main dish typically cooked? - Other (please specify)  \\\n",
       "0                                                NaN                \n",
       "1                                                NaN                \n",
       "2                                                NaN                \n",
       "3                                                NaN                \n",
       "4                                                NaN                \n",
       "\n",
       "  What kind of stuffing/dressing do you typically have?  \\\n",
       "0                                        Bread-based      \n",
       "1                                        Bread-based      \n",
       "2                                         Rice-based      \n",
       "3                                        Bread-based      \n",
       "4                                        Bread-based      \n",
       "\n",
       "  What kind of stuffing/dressing do you typically have? - Other (please specify)  \\\n",
       "0                                                NaN                               \n",
       "1                                                NaN                               \n",
       "2                                                NaN                               \n",
       "3                                                NaN                               \n",
       "4                                                NaN                               \n",
       "\n",
       "  What type of cranberry saucedo you typically have?  \\\n",
       "0                                               None   \n",
       "1                             Other (please specify)   \n",
       "2                                           Homemade   \n",
       "3                                           Homemade   \n",
       "4                                             Canned   \n",
       "\n",
       "  What type of cranberry saucedo you typically have? - Other (please specify)  \\\n",
       "0                                                NaN                            \n",
       "1                    Homemade cranberry gelatin ring                            \n",
       "2                                                NaN                            \n",
       "3                                                NaN                            \n",
       "4                                                NaN                            \n",
       "\n",
       "          ...          \\\n",
       "0         ...           \n",
       "1         ...           \n",
       "2         ...           \n",
       "3         ...           \n",
       "4         ...           \n",
       "\n",
       "  Have you ever tried to meet up with hometown friends on Thanksgiving night?  \\\n",
       "0                                                Yes                            \n",
       "1                                                 No                            \n",
       "2                                                Yes                            \n",
       "3                                                Yes                            \n",
       "4                                                Yes                            \n",
       "\n",
       "  Have you ever attended a \"Friendsgiving?\"  \\\n",
       "0                                        No   \n",
       "1                                        No   \n",
       "2                                       Yes   \n",
       "3                                        No   \n",
       "4                                        No   \n",
       "\n",
       "  Will you shop any Black Friday sales on Thanksgiving Day?  \\\n",
       "0                                                 No          \n",
       "1                                                Yes          \n",
       "2                                                Yes          \n",
       "3                                                 No          \n",
       "4                                                 No          \n",
       "\n",
       "  Do you work in retail? Will you employer make you work on Black Friday?  \\\n",
       "0                     No                                              NaN   \n",
       "1                     No                                              NaN   \n",
       "2                     No                                              NaN   \n",
       "3                     No                                              NaN   \n",
       "4                     No                                              NaN   \n",
       "\n",
       "  How would you describe where you live?      Age What is your gender?  \\\n",
       "0                               Suburban  18 - 29                 Male   \n",
       "1                                  Rural  18 - 29               Female   \n",
       "2                               Suburban  18 - 29                 Male   \n",
       "3                                  Urban  30 - 44                 Male   \n",
       "4                                  Urban  30 - 44                 Male   \n",
       "\n",
       "  How much total combined money did all members of your HOUSEHOLD earn last year?  \\\n",
       "0                                 $75,000 to $99,999                                \n",
       "1                                 $50,000 to $74,999                                \n",
       "2                                       $0 to $9,999                                \n",
       "3                                    $200,000 and up                                \n",
       "4                               $100,000 to $124,999                                \n",
       "\n",
       "            US Region  \n",
       "0     Middle Atlantic  \n",
       "1  East South Central  \n",
       "2            Mountain  \n",
       "3             Pacific  \n",
       "4             Pacific  \n",
       "\n",
       "[5 rows x 65 columns]"
      ]
     },
     "execution_count": 175,
     "metadata": {},
     "output_type": "execute_result"
    }
   ],
   "source": [
    "data_yes = data.loc[data['Do you celebrate Thanksgiving?'] == \"Yes\"]\n",
    "data_yes.head()"
   ]
  },
  {
   "cell_type": "code",
   "execution_count": 176,
   "metadata": {
    "collapsed": false
   },
   "outputs": [
    {
     "data": {
      "text/plain": [
       "Do you celebrate Thanksgiving?\n",
       "Yes    980\n",
       "dtype: int64"
      ]
     },
     "execution_count": 176,
     "metadata": {},
     "output_type": "execute_result"
    }
   ],
   "source": [
    "data_yes.groupby('Do you celebrate Thanksgiving?').size()"
   ]
  },
  {
   "cell_type": "markdown",
   "metadata": {},
   "source": [
    "# Thanksgiving Mains"
   ]
  },
  {
   "cell_type": "code",
   "execution_count": 177,
   "metadata": {
    "collapsed": false,
    "scrolled": true
   },
   "outputs": [
    {
     "data": {
      "text/plain": [
       "What is typically the main dish at your Thanksgiving dinner?\n",
       "Chicken                    12\n",
       "Ham/Pork                   29\n",
       "I don't know                5\n",
       "Other (please specify)     35\n",
       "Roast beef                 11\n",
       "Tofurkey                   20\n",
       "Turducken                   3\n",
       "Turkey                    859\n",
       "dtype: int64"
      ]
     },
     "execution_count": 177,
     "metadata": {},
     "output_type": "execute_result"
    }
   ],
   "source": [
    "data_yes.groupby('What is typically the main dish at your Thanksgiving dinner?').size()"
   ]
  },
  {
   "cell_type": "code",
   "execution_count": 178,
   "metadata": {
    "collapsed": false
   },
   "outputs": [
    {
     "data": {
      "text/plain": [
       "Do you typically have gravy?\n",
       "No      8\n",
       "Yes    12\n",
       "dtype: int64"
      ]
     },
     "execution_count": 178,
     "metadata": {},
     "output_type": "execute_result"
    }
   ],
   "source": [
    "data_yes.loc[data_yes['What is typically the main dish at your Thanksgiving dinner?'] == \"Tofurkey\"].groupby('Do you typically have gravy?').size()"
   ]
  },
  {
   "cell_type": "markdown",
   "metadata": {},
   "source": [
    "# Pies"
   ]
  },
  {
   "cell_type": "code",
   "execution_count": 179,
   "metadata": {
    "collapsed": false,
    "scrolled": false
   },
   "outputs": [],
   "source": [
    "apple_isnull = data_yes['Which type of pie is typically served at your Thanksgiving dinner? Please select all that apply. - Apple'].isnull()\n",
    "pumpkin_isnull = data_yes['Which type of pie is typically served at your Thanksgiving dinner? Please select all that apply. - Pumpkin'].isnull()\n",
    "pecan_isnull = data_yes['Which type of pie is typically served at your Thanksgiving dinner? Please select all that apply. - Pecan'].isnull()"
   ]
  },
  {
   "cell_type": "code",
   "execution_count": 180,
   "metadata": {
    "collapsed": true
   },
   "outputs": [],
   "source": [
    "ate_pies = apple_isnull & pumpkin_isnull & pecan_isnull"
   ]
  },
  {
   "cell_type": "code",
   "execution_count": 181,
   "metadata": {
    "collapsed": false
   },
   "outputs": [
    {
     "data": {
      "text/plain": [
       "False    876\n",
       "True     104\n",
       "dtype: int64"
      ]
     },
     "execution_count": 181,
     "metadata": {},
     "output_type": "execute_result"
    }
   ],
   "source": [
    "ate_pies.value_counts()"
   ]
  },
  {
   "cell_type": "markdown",
   "metadata": {},
   "source": [
    "# Figure out the most common dessert people eat."
   ]
  },
  {
   "cell_type": "code",
   "execution_count": 182,
   "metadata": {
    "collapsed": false
   },
   "outputs": [],
   "source": [
    "desserts = data.filter(like='desserts', axis=1)"
   ]
  },
  {
   "cell_type": "code",
   "execution_count": 183,
   "metadata": {
    "collapsed": false,
    "scrolled": true
   },
   "outputs": [
    {
     "data": {
      "text/plain": [
       "Which of these desserts do you typically have at Thanksgiving dinner? Please select all that apply.   - Apple cobbler               110\n",
       "Which of these desserts do you typically have at Thanksgiving dinner? Please select all that apply.   - Blondies                     16\n",
       "Which of these desserts do you typically have at Thanksgiving dinner? Please select all that apply.   - Brownies                    128\n",
       "Which of these desserts do you typically have at Thanksgiving dinner? Please select all that apply.   - Carrot cake                  72\n",
       "Which of these desserts do you typically have at Thanksgiving dinner? Please select all that apply.   - Cheesecake                  191\n",
       "Which of these desserts do you typically have at Thanksgiving dinner? Please select all that apply.   - Cookies                     204\n",
       "Which of these desserts do you typically have at Thanksgiving dinner? Please select all that apply.   - Fudge                        43\n",
       "Which of these desserts do you typically have at Thanksgiving dinner? Please select all that apply.   - Ice cream                   266\n",
       "Which of these desserts do you typically have at Thanksgiving dinner? Please select all that apply.   - Peach cobbler               103\n",
       "Which of these desserts do you typically have at Thanksgiving dinner? Please select all that apply.   - None                        295\n",
       "Which of these desserts do you typically have at Thanksgiving dinner? Please select all that apply.   - Other (please specify)      134\n",
       "Which of these desserts do you typically have at Thanksgiving dinner? Please select all that apply.   - Other (please specify).1    134\n",
       "dtype: int64"
      ]
     },
     "execution_count": 183,
     "metadata": {},
     "output_type": "execute_result"
    }
   ],
   "source": [
    "desserts.count()"
   ]
  },
  {
   "cell_type": "markdown",
   "metadata": {},
   "source": [
    "For better comparison, do by percentages"
   ]
  },
  {
   "cell_type": "code",
   "execution_count": 184,
   "metadata": {
    "collapsed": false
   },
   "outputs": [
    {
     "data": {
      "text/plain": [
       "Which of these desserts do you typically have at Thanksgiving dinner? Please select all that apply.   - Apple cobbler               10.396975\n",
       "Which of these desserts do you typically have at Thanksgiving dinner? Please select all that apply.   - Blondies                     1.512287\n",
       "Which of these desserts do you typically have at Thanksgiving dinner? Please select all that apply.   - Brownies                    12.098299\n",
       "Which of these desserts do you typically have at Thanksgiving dinner? Please select all that apply.   - Carrot cake                  6.805293\n",
       "Which of these desserts do you typically have at Thanksgiving dinner? Please select all that apply.   - Cheesecake                  18.052930\n",
       "Which of these desserts do you typically have at Thanksgiving dinner? Please select all that apply.   - Cookies                     19.281664\n",
       "Which of these desserts do you typically have at Thanksgiving dinner? Please select all that apply.   - Fudge                        4.064272\n",
       "Which of these desserts do you typically have at Thanksgiving dinner? Please select all that apply.   - Ice cream                   25.141777\n",
       "Which of these desserts do you typically have at Thanksgiving dinner? Please select all that apply.   - Peach cobbler                9.735350\n",
       "Which of these desserts do you typically have at Thanksgiving dinner? Please select all that apply.   - None                        27.882798\n",
       "Which of these desserts do you typically have at Thanksgiving dinner? Please select all that apply.   - Other (please specify)      12.665406\n",
       "Which of these desserts do you typically have at Thanksgiving dinner? Please select all that apply.   - Other (please specify).1    12.665406\n",
       "dtype: float64"
      ]
     },
     "execution_count": 184,
     "metadata": {},
     "output_type": "execute_result"
    }
   ],
   "source": [
    "100. * desserts.count() / len(desserts)"
   ]
  },
  {
   "cell_type": "markdown",
   "metadata": {},
   "source": [
    "Most popular dessert appears to be \"None\" with 28% of people saying they do not have any dessert at Thanksgiving. Net is \"Ice Cream\" at 25% of people. The least popular appears to be \"Blondies\" with only 1.5% of people having these for dessert"
   ]
  },
  {
   "cell_type": "markdown",
   "metadata": {},
   "source": [
    "## Reassess pie question"
   ]
  },
  {
   "cell_type": "code",
   "execution_count": 185,
   "metadata": {
    "collapsed": true
   },
   "outputs": [],
   "source": [
    "pies = data.filter(like='pie', axis=1)"
   ]
  },
  {
   "cell_type": "code",
   "execution_count": 186,
   "metadata": {
    "collapsed": false,
    "scrolled": false
   },
   "outputs": [
    {
     "data": {
      "text/plain": [
       "Which type of pie is typically served at your Thanksgiving dinner? Please select all that apply. - Apple                       514\n",
       "Which type of pie is typically served at your Thanksgiving dinner? Please select all that apply. - Buttermilk                   35\n",
       "Which type of pie is typically served at your Thanksgiving dinner? Please select all that apply. - Cherry                      113\n",
       "Which type of pie is typically served at your Thanksgiving dinner? Please select all that apply. - Chocolate                   133\n",
       "Which type of pie is typically served at your Thanksgiving dinner? Please select all that apply. - Coconut cream                36\n",
       "Which type of pie is typically served at your Thanksgiving dinner? Please select all that apply. - Key lime                     39\n",
       "Which type of pie is typically served at your Thanksgiving dinner? Please select all that apply. - Peach                        34\n",
       "Which type of pie is typically served at your Thanksgiving dinner? Please select all that apply. - Pecan                       342\n",
       "Which type of pie is typically served at your Thanksgiving dinner? Please select all that apply. - Pumpkin                     729\n",
       "Which type of pie is typically served at your Thanksgiving dinner? Please select all that apply. - Sweet Potato                152\n",
       "Which type of pie is typically served at your Thanksgiving dinner? Please select all that apply. - None                         40\n",
       "Which type of pie is typically served at your Thanksgiving dinner? Please select all that apply. - Other (please specify)       71\n",
       "Which type of pie is typically served at your Thanksgiving dinner? Please select all that apply. - Other (please specify).1     71\n",
       "dtype: int64"
      ]
     },
     "execution_count": 186,
     "metadata": {},
     "output_type": "execute_result"
    }
   ],
   "source": [
    "pies.count()"
   ]
  },
  {
   "cell_type": "markdown",
   "metadata": {},
   "source": [
    "For better comparison, do by percentages"
   ]
  },
  {
   "cell_type": "code",
   "execution_count": 187,
   "metadata": {
    "collapsed": false
   },
   "outputs": [
    {
     "data": {
      "text/plain": [
       "Which type of pie is typically served at your Thanksgiving dinner? Please select all that apply. - Apple                       48.582231\n",
       "Which type of pie is typically served at your Thanksgiving dinner? Please select all that apply. - Buttermilk                   3.308129\n",
       "Which type of pie is typically served at your Thanksgiving dinner? Please select all that apply. - Cherry                      10.680529\n",
       "Which type of pie is typically served at your Thanksgiving dinner? Please select all that apply. - Chocolate                   12.570888\n",
       "Which type of pie is typically served at your Thanksgiving dinner? Please select all that apply. - Coconut cream                3.402647\n",
       "Which type of pie is typically served at your Thanksgiving dinner? Please select all that apply. - Key lime                     3.686200\n",
       "Which type of pie is typically served at your Thanksgiving dinner? Please select all that apply. - Peach                        3.213611\n",
       "Which type of pie is typically served at your Thanksgiving dinner? Please select all that apply. - Pecan                       32.325142\n",
       "Which type of pie is typically served at your Thanksgiving dinner? Please select all that apply. - Pumpkin                     68.903592\n",
       "Which type of pie is typically served at your Thanksgiving dinner? Please select all that apply. - Sweet Potato                14.366730\n",
       "Which type of pie is typically served at your Thanksgiving dinner? Please select all that apply. - None                         3.780718\n",
       "Which type of pie is typically served at your Thanksgiving dinner? Please select all that apply. - Other (please specify)       6.710775\n",
       "Which type of pie is typically served at your Thanksgiving dinner? Please select all that apply. - Other (please specify).1     6.710775\n",
       "dtype: float64"
      ]
     },
     "execution_count": 187,
     "metadata": {},
     "output_type": "execute_result"
    }
   ],
   "source": [
    "100. * pies.count() / len(pies)"
   ]
  },
  {
   "cell_type": "markdown",
   "metadata": {},
   "source": [
    "The most popular pie is \"Pumpkin\" with 69% of people serving this at Thanksgiving, in second place is \"Apple\" with 49% of people serving this. The least popular is a rough tie at around 3-4% of people serving \"Buttermilk\", \"Cocunut Cream\", \"Key Lime\", \"Peach\" or having nothing. "
   ]
  },
  {
   "cell_type": "markdown",
   "metadata": {},
   "source": [
    "# Figure out the most common complete meal people eat."
   ]
  },
  {
   "cell_type": "markdown",
   "metadata": {},
   "source": [
    "## Most common main dish and preparation"
   ]
  },
  {
   "cell_type": "code",
   "execution_count": 188,
   "metadata": {
    "collapsed": false,
    "scrolled": true
   },
   "outputs": [
    {
     "data": {
      "text/plain": [
       "What is typically the main dish at your Thanksgiving dinner?\n",
       "Chicken                    1.134216\n",
       "Ham/Pork                   2.741021\n",
       "I don't know               0.472590\n",
       "Other (please specify)     3.308129\n",
       "Roast beef                 1.039698\n",
       "Tofurkey                   1.890359\n",
       "Turducken                  0.283554\n",
       "Turkey                    81.190926\n",
       "dtype: float64"
      ]
     },
     "execution_count": 188,
     "metadata": {},
     "output_type": "execute_result"
    }
   ],
   "source": [
    "100. * data.groupby('What is typically the main dish at your Thanksgiving dinner?').size() / len(data)"
   ]
  },
  {
   "cell_type": "markdown",
   "metadata": {},
   "source": [
    "Most people are having Turkey for the main dish. "
   ]
  },
  {
   "cell_type": "code",
   "execution_count": 189,
   "metadata": {
    "collapsed": false,
    "scrolled": true
   },
   "outputs": [
    {
     "data": {
      "text/plain": [
       "How is the main dish typically cooked?\n",
       "Baked                     45.463138\n",
       "Fried                      4.442344\n",
       "I don't know               1.606805\n",
       "Other (please specify)     4.820416\n",
       "Roasted                   35.727788\n",
       "dtype: float64"
      ]
     },
     "execution_count": 189,
     "metadata": {},
     "output_type": "execute_result"
    }
   ],
   "source": [
    "100. * data.groupby('How is the main dish typically cooked?').size() / len(data)"
   ]
  },
  {
   "cell_type": "markdown",
   "metadata": {},
   "source": [
    "And the Turkey is cooked in the majority of cases by Bakin (45%) but a lot of people do Roasted (35%) as well. "
   ]
  },
  {
   "cell_type": "code",
   "execution_count": 190,
   "metadata": {
    "collapsed": false
   },
   "outputs": [
    {
     "ename": "SyntaxError",
     "evalue": "invalid syntax (<ipython-input-190-d4a13655e302>, line 1)",
     "output_type": "error",
     "traceback": [
      "\u001b[0;36m  File \u001b[0;32m\"<ipython-input-190-d4a13655e302>\"\u001b[0;36m, line \u001b[0;32m1\u001b[0m\n\u001b[0;31m    100How is the main dish typically cooked?How is the main dish typically cooked?. * data.groupby('What kind of stuffing/dressing do you typically have?').size() / len(data)\u001b[0m\n\u001b[0m         ^\u001b[0m\n\u001b[0;31mSyntaxError\u001b[0m\u001b[0;31m:\u001b[0m invalid syntax\n"
     ]
    }
   ],
   "source": [
    "100How is the main dish typically cooked?How is the main dish typically cooked?. * data.groupby('What kind of stuffing/dressing do you typically have?').size() / len(data)"
   ]
  },
  {
   "cell_type": "markdown",
   "metadata": {},
   "source": [
    "Most people have a Bread-based stuffing with their meal. "
   ]
  },
  {
   "cell_type": "code",
   "execution_count": 191,
   "metadata": {
    "collapsed": false
   },
   "outputs": [
    {
     "data": {
      "text/plain": [
       "What type of cranberry saucedo you typically have?\n",
       "Canned                    47.448015\n",
       "Homemade                  28.449905\n",
       "None                      13.799622\n",
       "Other (please specify)     2.362949\n",
       "dtype: float64"
      ]
     },
     "execution_count": 191,
     "metadata": {},
     "output_type": "execute_result"
    }
   ],
   "source": [
    "100. * data.groupby('What type of cranberry saucedo you typically have?').size() / len(data)"
   ]
  },
  {
   "cell_type": "markdown",
   "metadata": {},
   "source": [
    "Most people have Canned cranberry sauce. "
   ]
  },
  {
   "cell_type": "code",
   "execution_count": 192,
   "metadata": {
    "collapsed": false,
    "scrolled": true
   },
   "outputs": [
    {
     "data": {
      "text/plain": [
       "Do you typically have gravy?\n",
       "No      7.750473\n",
       "Yes    84.310019\n",
       "dtype: float64"
      ]
     },
     "execution_count": 192,
     "metadata": {},
     "output_type": "execute_result"
    }
   ],
   "source": [
    "100. * data.groupby('Do you typically have gravy?').size() / len(data)"
   ]
  },
  {
   "cell_type": "markdown",
   "metadata": {},
   "source": [
    "Most people have gravy with their meal. "
   ]
  },
  {
   "cell_type": "code",
   "execution_count": 193,
   "metadata": {
    "collapsed": true
   },
   "outputs": [],
   "source": [
    "sides = data.filter(like='side dishes', axis=1)"
   ]
  },
  {
   "cell_type": "code",
   "execution_count": 194,
   "metadata": {
    "collapsed": false
   },
   "outputs": [
    {
     "data": {
      "text/plain": [
       "Which of these side dishes aretypically served at your Thanksgiving dinner? Please select all that apply. - Brussel sprouts                     14.650284\n",
       "Which of these side dishes aretypically served at your Thanksgiving dinner? Please select all that apply. - Carrots                             22.873346\n",
       "Which of these side dishes aretypically served at your Thanksgiving dinner? Please select all that apply. - Cauliflower                          8.317580\n",
       "Which of these side dishes aretypically served at your Thanksgiving dinner? Please select all that apply. - Corn                                43.856333\n",
       "Which of these side dishes aretypically served at your Thanksgiving dinner? Please select all that apply. - Cornbread                           22.211720\n",
       "Which of these side dishes aretypically served at your Thanksgiving dinner? Please select all that apply. - Fruit salad                         20.321361\n",
       "Which of these side dishes aretypically served at your Thanksgiving dinner? Please select all that apply. - Green beans/green bean casserole    64.839319\n",
       "Which of these side dishes aretypically served at your Thanksgiving dinner? Please select all that apply. - Macaroni and cheese                 19.470699\n",
       "Which of these side dishes aretypically served at your Thanksgiving dinner? Please select all that apply. - Mashed potatoes                     77.221172\n",
       "Which of these side dishes aretypically served at your Thanksgiving dinner? Please select all that apply. - Rolls/biscuits                      72.400756\n",
       "Which of these side dishes aretypically served at your Thanksgiving dinner? Please select all that apply. - Squash                              16.162571\n",
       "Which of these side dishes aretypically served at your Thanksgiving dinner? Please select all that apply. - Vegetable salad                     19.754253\n",
       "Which of these side dishes aretypically served at your Thanksgiving dinner? Please select all that apply. - Yams/sweet potato casserole         59.640832\n",
       "Which of these side dishes aretypically served at your Thanksgiving dinner? Please select all that apply. - Other (please specify)              10.491493\n",
       "Which of these side dishes aretypically served at your Thanksgiving dinner? Please select all that apply. - Other (please specify).1            10.491493\n",
       "dtype: float64"
      ]
     },
     "execution_count": 194,
     "metadata": {},
     "output_type": "execute_result"
    }
   ],
   "source": [
    "100. * sides.count() / len(sides)"
   ]
  },
  {
   "cell_type": "markdown",
   "metadata": {},
   "source": [
    "Most people have Mashed potatoes (77%), Rolls/biscuits (72%), Green beans/green bean casserole (65%), Yams/sweet potato casserole (60%), and Corn (44%). "
   ]
  },
  {
   "cell_type": "markdown",
   "metadata": {},
   "source": [
    "## Conclusions"
   ]
  },
  {
   "cell_type": "markdown",
   "metadata": {},
   "source": [
    "Most people have a Baked Turkey with gravy, a Bread-based stuffing, Canned cranberry sauce, Mashed potatoes, Rolls/biscuits, Green beans/green bean casserole, Yams/sweet potato casserole, and Corn.\n",
    "\n",
    "Incorporating our dessert/pie information, this meal is commonly followed up with Pumpkin pie and Apple pie."
   ]
  },
  {
   "cell_type": "markdown",
   "metadata": {},
   "source": [
    "# Find regional patterns in the dinner menus."
   ]
  },
  {
   "cell_type": "code",
   "execution_count": 195,
   "metadata": {
    "collapsed": false,
    "scrolled": true
   },
   "outputs": [
    {
     "data": {
      "text/plain": [
       "South Atlantic        214\n",
       "Middle Atlantic       159\n",
       "East North Central    150\n",
       "Pacific               146\n",
       "West South Central     91\n",
       "West North Central     74\n",
       "East South Central     60\n",
       "New England            58\n",
       "Mountain               47\n",
       "Name: US Region, dtype: int64"
      ]
     },
     "execution_count": 195,
     "metadata": {},
     "output_type": "execute_result"
    }
   ],
   "source": [
    "data['US Region'].value_counts()"
   ]
  },
  {
   "cell_type": "markdown",
   "metadata": {},
   "source": [
    "## Mains "
   ]
  },
  {
   "cell_type": "code",
   "execution_count": 196,
   "metadata": {
    "collapsed": false,
    "scrolled": true
   },
   "outputs": [
    {
     "data": {
      "text/plain": [
       "US Region           US Region           What is typically the main dish at your Thanksgiving dinner?\n",
       "East North Central  East North Central  Turkey                                                          135\n",
       "East South Central  East South Central  Turkey                                                           50\n",
       "Middle Atlantic     Middle Atlantic     Turkey                                                          130\n",
       "Mountain            Mountain            Turkey                                                           37\n",
       "New England         New England         Turkey                                                           51\n",
       "Pacific             Pacific             Turkey                                                          107\n",
       "South Atlantic      South Atlantic      Turkey                                                          181\n",
       "West North Central  West North Central  Turkey                                                           60\n",
       "West South Central  West South Central  Turkey                                                           77\n",
       "dtype: int64"
      ]
     },
     "execution_count": 196,
     "metadata": {},
     "output_type": "execute_result"
    }
   ],
   "source": [
    "mains = data.groupby(['US Region', 'What is typically the main dish at your Thanksgiving dinner?']).size()\n",
    "mains.groupby(level=0).nlargest(1)"
   ]
  },
  {
   "cell_type": "markdown",
   "metadata": {},
   "source": [
    "The most common main across all regions of the US is Turkey. "
   ]
  },
  {
   "cell_type": "code",
   "execution_count": 197,
   "metadata": {
    "collapsed": false
   },
   "outputs": [
    {
     "data": {
      "text/plain": [
       "US Region           US Region           What is typically the main dish at your Thanksgiving dinner?\n",
       "East North Central  East North Central  Turkey                                                          135\n",
       "                                        Other (please specify)                                            5\n",
       "East South Central  East South Central  Turkey                                                           50\n",
       "                                        Other (please specify)                                            4\n",
       "Middle Atlantic     Middle Atlantic     Turkey                                                          130\n",
       "                                        Tofurkey                                                          5\n",
       "Mountain            Mountain            Turkey                                                           37\n",
       "                                        Tofurkey                                                          2\n",
       "New England         New England         Turkey                                                           51\n",
       "                                        Chicken                                                           2\n",
       "Pacific             Pacific             Turkey                                                          107\n",
       "                                        Other (please specify)                                            9\n",
       "South Atlantic      South Atlantic      Turkey                                                          181\n",
       "                                        Ham/Pork                                                          7\n",
       "West North Central  West North Central  Turkey                                                           60\n",
       "                                        Ham/Pork                                                          4\n",
       "West South Central  West South Central  Turkey                                                           77\n",
       "                                        Other (please specify)                                            3\n",
       "dtype: int64"
      ]
     },
     "execution_count": 197,
     "metadata": {},
     "output_type": "execute_result"
    }
   ],
   "source": [
    "mains.groupby(level=0).nlargest(2)"
   ]
  },
  {
   "cell_type": "markdown",
   "metadata": {},
   "source": [
    "However, there is regional differences in the most common second choice for a main, with some regions having Tofurkey, other Ham/Pork. "
   ]
  },
  {
   "cell_type": "code",
   "execution_count": 198,
   "metadata": {
    "collapsed": false,
    "scrolled": true
   },
   "outputs": [
    {
     "data": {
      "text/plain": [
       "US Region           US Region           How is the main dish typically cooked?\n",
       "East North Central  East North Central  Baked                                      78\n",
       "East South Central  East South Central  Baked                                      27\n",
       "Middle Atlantic     Middle Atlantic     Roasted                                    71\n",
       "Mountain            Mountain            Baked                                      21\n",
       "New England         New England         Roasted                                    37\n",
       "Pacific             Pacific             Baked                                      71\n",
       "South Atlantic      South Atlantic      Baked                                     106\n",
       "West North Central  West North Central  Baked                                      44\n",
       "West South Central  West South Central  Baked                                      46\n",
       "dtype: int64"
      ]
     },
     "execution_count": 198,
     "metadata": {},
     "output_type": "execute_result"
    }
   ],
   "source": [
    "data.groupby(['US Region', 'How is the main dish typically cooked?']).size().groupby(level=0).nlargest(1)"
   ]
  },
  {
   "cell_type": "markdown",
   "metadata": {},
   "source": [
    "The most common method for cooking Turkey various by region, with most Baking the turkey, however the Middle Atlantic and New England roast their mains. "
   ]
  },
  {
   "cell_type": "markdown",
   "metadata": {},
   "source": [
    "## Sides"
   ]
  },
  {
   "cell_type": "code",
   "execution_count": 199,
   "metadata": {
    "collapsed": false,
    "scrolled": true
   },
   "outputs": [
    {
     "data": {
      "text/plain": [
       "US Region           US Region           What kind of stuffing/dressing do you typically have?\n",
       "East North Central  East North Central  Bread-based                                              129\n",
       "East South Central  East South Central  Bread-based                                               51\n",
       "Middle Atlantic     Middle Atlantic     Bread-based                                              127\n",
       "Mountain            Mountain            Bread-based                                               37\n",
       "New England         New England         Bread-based                                               50\n",
       "Pacific             Pacific             Bread-based                                              107\n",
       "South Atlantic      South Atlantic      Bread-based                                              171\n",
       "West North Central  West North Central  Bread-based                                               62\n",
       "West South Central  West South Central  Bread-based                                               74\n",
       "dtype: int64"
      ]
     },
     "execution_count": 199,
     "metadata": {},
     "output_type": "execute_result"
    }
   ],
   "source": [
    "data.groupby(['US Region', 'What kind of stuffing/dressing do you typically have?']).size().groupby(level=0).nlargest(1)"
   ]
  },
  {
   "cell_type": "markdown",
   "metadata": {},
   "source": [
    "All regions most commonly have Bread-based stuffing. "
   ]
  },
  {
   "cell_type": "code",
   "execution_count": 200,
   "metadata": {
    "collapsed": false
   },
   "outputs": [
    {
     "data": {
      "text/plain": [
       "US Region           US Region           What type of cranberry saucedo you typically have?\n",
       "East North Central  East North Central  Canned                                                 76\n",
       "East South Central  East South Central  Canned                                                 35\n",
       "Middle Atlantic     Middle Atlantic     Canned                                                 72\n",
       "Mountain            Mountain            Canned                                                 19\n",
       "New England         New England         Canned                                                 29\n",
       "Pacific             Pacific             Canned                                                 53\n",
       "South Atlantic      South Atlantic      Canned                                                126\n",
       "West North Central  West North Central  Canned                                                 32\n",
       "West South Central  West South Central  Canned                                                 44\n",
       "dtype: int64"
      ]
     },
     "execution_count": 200,
     "metadata": {},
     "output_type": "execute_result"
    }
   ],
   "source": [
    "data.groupby(['US Region', 'What type of cranberry saucedo you typically have?']).size().groupby(level=0).nlargest(1)"
   ]
  },
  {
   "cell_type": "markdown",
   "metadata": {},
   "source": [
    "All regions most commonly have canned cranberry sauce. "
   ]
  },
  {
   "cell_type": "code",
   "execution_count": 201,
   "metadata": {
    "collapsed": false
   },
   "outputs": [
    {
     "data": {
      "text/plain": [
       "US Region           US Region           Do you typically have gravy?\n",
       "East North Central  East North Central  Yes                             136\n",
       "East South Central  East South Central  Yes                              52\n",
       "Middle Atlantic     Middle Atlantic     Yes                             132\n",
       "Mountain            Mountain            Yes                              39\n",
       "New England         New England         Yes                              53\n",
       "Pacific             Pacific             Yes                             114\n",
       "South Atlantic      South Atlantic      Yes                             192\n",
       "West North Central  West North Central  Yes                              65\n",
       "West South Central  West South Central  Yes                              76\n",
       "dtype: int64"
      ]
     },
     "execution_count": 201,
     "metadata": {},
     "output_type": "execute_result"
    }
   ],
   "source": [
    "data.groupby(['US Region', 'Do you typically have gravy?']).size().groupby(level=0).nlargest(1)"
   ]
  },
  {
   "cell_type": "markdown",
   "metadata": {},
   "source": [
    "All regions most commonly tend to have gravy. "
   ]
  },
  {
   "cell_type": "code",
   "execution_count": 202,
   "metadata": {
    "collapsed": false
   },
   "outputs": [
    {
     "name": "stdout",
     "output_type": "stream",
     "text": [
      "Middle Atlantic\n",
      "Which of these side dishes aretypically served at your Thanksgiving dinner? Please select all that apply. - Green beans/green bean casserole    57.861635\n",
      "Which of these side dishes aretypically served at your Thanksgiving dinner? Please select all that apply. - Mashed potatoes                     81.761006\n",
      "Which of these side dishes aretypically served at your Thanksgiving dinner? Please select all that apply. - Rolls/biscuits                      66.666667\n",
      "Which of these side dishes aretypically served at your Thanksgiving dinner? Please select all that apply. - Yams/sweet potato casserole         62.264151\n",
      "dtype: float64\n",
      "East South Central\n",
      "Which of these side dishes aretypically served at your Thanksgiving dinner? Please select all that apply. - Corn                                51.666667\n",
      "Which of these side dishes aretypically served at your Thanksgiving dinner? Please select all that apply. - Green beans/green bean casserole    81.666667\n",
      "Which of these side dishes aretypically served at your Thanksgiving dinner? Please select all that apply. - Mashed potatoes                     75.000000\n",
      "Which of these side dishes aretypically served at your Thanksgiving dinner? Please select all that apply. - Rolls/biscuits                      81.666667\n",
      "Which of these side dishes aretypically served at your Thanksgiving dinner? Please select all that apply. - Yams/sweet potato casserole         73.333333\n",
      "dtype: float64\n",
      "Mountain\n",
      "Which of these side dishes aretypically served at your Thanksgiving dinner? Please select all that apply. - Green beans/green bean casserole    65.957447\n",
      "Which of these side dishes aretypically served at your Thanksgiving dinner? Please select all that apply. - Mashed potatoes                     80.851064\n",
      "Which of these side dishes aretypically served at your Thanksgiving dinner? Please select all that apply. - Rolls/biscuits                      70.212766\n",
      "Which of these side dishes aretypically served at your Thanksgiving dinner? Please select all that apply. - Yams/sweet potato casserole         55.319149\n",
      "dtype: float64\n",
      "Pacific\n",
      "Which of these side dishes aretypically served at your Thanksgiving dinner? Please select all that apply. - Green beans/green bean casserole    57.534247\n",
      "Which of these side dishes aretypically served at your Thanksgiving dinner? Please select all that apply. - Mashed potatoes                     76.712329\n",
      "Which of these side dishes aretypically served at your Thanksgiving dinner? Please select all that apply. - Rolls/biscuits                      67.808219\n",
      "Which of these side dishes aretypically served at your Thanksgiving dinner? Please select all that apply. - Yams/sweet potato casserole         58.219178\n",
      "dtype: float64\n",
      "East North Central\n",
      "Which of these side dishes aretypically served at your Thanksgiving dinner? Please select all that apply. - Corn                                50.666667\n",
      "Which of these side dishes aretypically served at your Thanksgiving dinner? Please select all that apply. - Green beans/green bean casserole    68.666667\n",
      "Which of these side dishes aretypically served at your Thanksgiving dinner? Please select all that apply. - Mashed potatoes                     84.666667\n",
      "Which of these side dishes aretypically served at your Thanksgiving dinner? Please select all that apply. - Rolls/biscuits                      82.000000\n",
      "Which of these side dishes aretypically served at your Thanksgiving dinner? Please select all that apply. - Yams/sweet potato casserole         60.000000\n",
      "dtype: float64\n",
      "West North Central\n",
      "Which of these side dishes aretypically served at your Thanksgiving dinner? Please select all that apply. - Green beans/green bean casserole    81.081081\n",
      "Which of these side dishes aretypically served at your Thanksgiving dinner? Please select all that apply. - Mashed potatoes                     87.837838\n",
      "Which of these side dishes aretypically served at your Thanksgiving dinner? Please select all that apply. - Rolls/biscuits                      83.783784\n",
      "dtype: float64\n",
      "West South Central\n",
      "Which of these side dishes aretypically served at your Thanksgiving dinner? Please select all that apply. - Corn                                50.549451\n",
      "Which of these side dishes aretypically served at your Thanksgiving dinner? Please select all that apply. - Green beans/green bean casserole    72.527473\n",
      "Which of these side dishes aretypically served at your Thanksgiving dinner? Please select all that apply. - Mashed potatoes                     76.923077\n",
      "Which of these side dishes aretypically served at your Thanksgiving dinner? Please select all that apply. - Rolls/biscuits                      80.219780\n",
      "Which of these side dishes aretypically served at your Thanksgiving dinner? Please select all that apply. - Yams/sweet potato casserole         69.230769\n",
      "dtype: float64\n",
      "South Atlantic\n",
      "Which of these side dishes aretypically served at your Thanksgiving dinner? Please select all that apply. - Green beans/green bean casserole    70.093458\n",
      "Which of these side dishes aretypically served at your Thanksgiving dinner? Please select all that apply. - Mashed potatoes                     73.364486\n",
      "Which of these side dishes aretypically served at your Thanksgiving dinner? Please select all that apply. - Rolls/biscuits                      73.831776\n",
      "Which of these side dishes aretypically served at your Thanksgiving dinner? Please select all that apply. - Yams/sweet potato casserole         67.289720\n",
      "dtype: float64\n",
      "New England\n",
      "Which of these side dishes aretypically served at your Thanksgiving dinner? Please select all that apply. - Green beans/green bean casserole    56.896552\n",
      "Which of these side dishes aretypically served at your Thanksgiving dinner? Please select all that apply. - Mashed potatoes                     89.655172\n",
      "Which of these side dishes aretypically served at your Thanksgiving dinner? Please select all that apply. - Rolls/biscuits                      70.689655\n",
      "Which of these side dishes aretypically served at your Thanksgiving dinner? Please select all that apply. - Squash                              53.448276\n",
      "Which of these side dishes aretypically served at your Thanksgiving dinner? Please select all that apply. - Yams/sweet potato casserole         58.620690\n",
      "dtype: float64\n",
      "nan\n",
      "Series([], dtype: float64)\n"
     ]
    }
   ],
   "source": [
    "for x in data['US Region'].unique():\n",
    "    regions = data.loc[data['US Region'] == x]\n",
    "    side_cols = [col for col in regions.columns if 'side dishes' in col]\n",
    "    sides = regions[side_cols]\n",
    "    perc = 100. * sides.count() / len(sides) \n",
    "    print(x)\n",
    "    print(perc[perc > 50])\n"
   ]
  },
  {
   "cell_type": "markdown",
   "metadata": {
    "collapsed": true
   },
   "source": [
    "There are a few regional differences, but over 50% of households in all regions are serving three core side dishes (green bean/green bean casserole, mashed potatoes, rolls/biscuits).  Over 50% of households in all regions except for West North Central are also serving yams/sweet potato casserole as a sides dish. In East North Central, West South Central, and East South Central, over 50% of households are serving corn as a side. Only in New England are over 50% of households serving squash as a side.\n",
    "\n",
    "So while there is variability in the sides choosen, there also appears to be a core set of three sides that a majority of households in the US, regardless of location, are serving. "
   ]
  },
  {
   "cell_type": "markdown",
   "metadata": {
    "collapsed": true
   },
   "source": [
    "## Conclusions"
   ]
  },
  {
   "cell_type": "markdown",
   "metadata": {
    "collapsed": true
   },
   "source": [
    "There are some regional difference, but there is also a consistency to what is erved for Thanksgiving across the US."
   ]
  },
  {
   "cell_type": "markdown",
   "metadata": {
    "collapsed": true
   },
   "source": [
    "# Age "
   ]
  },
  {
   "cell_type": "code",
   "execution_count": 203,
   "metadata": {
    "collapsed": false,
    "scrolled": true
   },
   "outputs": [
    {
     "data": {
      "text/plain": [
       "45 - 59    286\n",
       "60+        264\n",
       "30 - 44    259\n",
       "18 - 29    216\n",
       "Name: Age, dtype: int64"
      ]
     },
     "execution_count": 203,
     "metadata": {},
     "output_type": "execute_result"
    }
   ],
   "source": [
    "data[\"Age\"].value_counts()"
   ]
  },
  {
   "cell_type": "markdown",
   "metadata": {},
   "source": [
    "Age is given in ranges (categories) rather than someone's exact age. Convert these to numeric and use the first part of the Age category (i.e. 45, 60, 30, etc.)."
   ]
  },
  {
   "cell_type": "code",
   "execution_count": 204,
   "metadata": {
    "collapsed": true
   },
   "outputs": [],
   "source": [
    "def extract_age(age_str):\n",
    "    if pd.isnull(age_str):\n",
    "        return None\n",
    "    age_str = age_str.split(\" \")[0]\n",
    "    age_str = age_str.replace(\"+\", \"\")\n",
    "    return int(age_str)"
   ]
  },
  {
   "cell_type": "code",
   "execution_count": 205,
   "metadata": {
    "collapsed": false
   },
   "outputs": [
    {
     "data": {
      "text/plain": [
       "count    1025.000000\n",
       "mean       39.383415\n",
       "std        15.398493\n",
       "min        18.000000\n",
       "25%        30.000000\n",
       "50%        45.000000\n",
       "75%        60.000000\n",
       "max        60.000000\n",
       "Name: int_age, dtype: float64"
      ]
     },
     "execution_count": 205,
     "metadata": {},
     "output_type": "execute_result"
    }
   ],
   "source": [
    "data[\"int_age\"] = data[\"Age\"].apply(extract_age)\n",
    "data[\"int_age\"].describe()"
   ]
  },
  {
   "cell_type": "markdown",
   "metadata": {},
   "source": [
    "The mean age of people in the data is 39 years old. The youngest participant was 18 and the oldest was 60. Looking at the percentiles (25%, 50%, 75%), these align near exactly with the groups. However, we need to remember these are not exact ages, and instead age ranges were used, meaning we do not have an accurate view of the distribution of the ages. "
   ]
  },
  {
   "cell_type": "markdown",
   "metadata": {},
   "source": [
    "# Income "
   ]
  },
  {
   "cell_type": "code",
   "execution_count": 206,
   "metadata": {
    "collapsed": false
   },
   "outputs": [
    {
     "data": {
      "text/plain": [
       "$25,000 to $49,999      180\n",
       "Prefer not to answer    136\n",
       "$50,000 to $74,999      135\n",
       "$75,000 to $99,999      133\n",
       "$100,000 to $124,999    111\n",
       "$200,000 and up          80\n",
       "$10,000 to $24,999       68\n",
       "$0 to $9,999             66\n",
       "$125,000 to $149,999     49\n",
       "$150,000 to $174,999     40\n",
       "$175,000 to $199,999     27\n",
       "Name: How much total combined money did all members of your HOUSEHOLD earn last year?, dtype: int64"
      ]
     },
     "execution_count": 206,
     "metadata": {},
     "output_type": "execute_result"
    }
   ],
   "source": [
    "data[\"How much total combined money did all members of your HOUSEHOLD earn last year?\"].value_counts()"
   ]
  },
  {
   "cell_type": "markdown",
   "metadata": {},
   "source": [
    "Like Age, Income is given in ranges (categories). Convert these to numeric and use the first part of the Income category (i.e. $25,000, $50,000, etc.)."
   ]
  },
  {
   "cell_type": "code",
   "execution_count": 207,
   "metadata": {
    "collapsed": true
   },
   "outputs": [],
   "source": [
    "def extract_income(income_str):\n",
    "    if pd.isnull(income_str):\n",
    "        return None\n",
    "    income_str = income_str.split(\" \")[0]\n",
    "    if income_str == \"Prefer\" :\n",
    "        return None\n",
    "    income_str = income_str.replace(\"$\", \"\").replace(\",\", \"\")\n",
    "    return int(income_str)"
   ]
  },
  {
   "cell_type": "code",
   "execution_count": 208,
   "metadata": {
    "collapsed": false
   },
   "outputs": [
    {
     "data": {
      "text/plain": [
       "count       889.000000\n",
       "mean      74077.615298\n",
       "std       59360.742902\n",
       "min           0.000000\n",
       "25%       25000.000000\n",
       "50%       50000.000000\n",
       "75%      100000.000000\n",
       "max      200000.000000\n",
       "Name: int_income, dtype: float64"
      ]
     },
     "execution_count": 208,
     "metadata": {},
     "output_type": "execute_result"
    }
   ],
   "source": [
    "data[\"int_income\"] = data[\"How much total combined money did all members of your HOUSEHOLD earn last year?\"].apply(extract_income)\n",
    "data[\"int_income\"].describe()"
   ]
  },
  {
   "cell_type": "markdown",
   "metadata": {},
   "source": [
    "The mean income of people in the data is $74,077. However, we need to remember these are not exact incomes of the participants but are income brackets. This means we do not have an accurate view of the true incomes of the sample or their distribution. "
   ]
  },
  {
   "cell_type": "markdown",
   "metadata": {
    "collapsed": true
   },
   "source": [
    "## Distance traveled for Thanksgiving Dinner related to Income"
   ]
  },
  {
   "cell_type": "code",
   "execution_count": 209,
   "metadata": {
    "collapsed": false,
    "scrolled": true
   },
   "outputs": [
    {
     "data": {
      "text/plain": [
       "Thanksgiving is happening at my home--I won't travel at all                         396\n",
       "Thanksgiving is local--it will take place in the town I live in                     276\n",
       "Thanksgiving is out of town but not too far--it's a drive of a few hours or less    197\n",
       "Thanksgiving is out of town and far away--I have to drive several hours or fly       82\n",
       "Name: How far will you travel for Thanksgiving?, dtype: int64"
      ]
     },
     "execution_count": 209,
     "metadata": {},
     "output_type": "execute_result"
    }
   ],
   "source": [
    "data[\"How far will you travel for Thanksgiving?\"].value_counts()"
   ]
  },
  {
   "cell_type": "markdown",
   "metadata": {},
   "source": [
    "### Distance traveled by those earning less than $150,000"
   ]
  },
  {
   "cell_type": "code",
   "execution_count": 210,
   "metadata": {
    "collapsed": false,
    "scrolled": false
   },
   "outputs": [
    {
     "data": {
      "text/plain": [
       "Thanksgiving is happening at my home--I won't travel at all                         281\n",
       "Thanksgiving is local--it will take place in the town I live in                     203\n",
       "Thanksgiving is out of town but not too far--it's a drive of a few hours or less    150\n",
       "Thanksgiving is out of town and far away--I have to drive several hours or fly       55\n",
       "Name: How far will you travel for Thanksgiving?, dtype: int64"
      ]
     },
     "execution_count": 210,
     "metadata": {},
     "output_type": "execute_result"
    }
   ],
   "source": [
    "data_filtered = data[data[\"int_income\"] < 150000]\n",
    "data_filtered[\"How far will you travel for Thanksgiving?\"].value_counts()\n"
   ]
  },
  {
   "cell_type": "markdown",
   "metadata": {},
   "source": [
    "As a percentage, to better compare"
   ]
  },
  {
   "cell_type": "code",
   "execution_count": 211,
   "metadata": {
    "collapsed": false,
    "scrolled": true
   },
   "outputs": [
    {
     "data": {
      "text/plain": [
       "Thanksgiving is happening at my home--I won't travel at all                         37.870620\n",
       "Thanksgiving is local--it will take place in the town I live in                     27.358491\n",
       "Thanksgiving is out of town but not too far--it's a drive of a few hours or less    20.215633\n",
       "Thanksgiving is out of town and far away--I have to drive several hours or fly       7.412399\n",
       "Name: How far will you travel for Thanksgiving?, dtype: float64"
      ]
     },
     "execution_count": 211,
     "metadata": {},
     "output_type": "execute_result"
    }
   ],
   "source": [
    "100. * data_filtered[\"How far will you travel for Thanksgiving?\"].value_counts() / len(data_filtered)"
   ]
  },
  {
   "cell_type": "markdown",
   "metadata": {},
   "source": [
    "### Distance traveled by those earning more than $150,000"
   ]
  },
  {
   "cell_type": "code",
   "execution_count": 212,
   "metadata": {
    "collapsed": false
   },
   "outputs": [
    {
     "data": {
      "text/plain": [
       "Thanksgiving is happening at my home--I won't travel at all                         49\n",
       "Thanksgiving is local--it will take place in the town I live in                     25\n",
       "Thanksgiving is out of town but not too far--it's a drive of a few hours or less    16\n",
       "Thanksgiving is out of town and far away--I have to drive several hours or fly      12\n",
       "Name: How far will you travel for Thanksgiving?, dtype: int64"
      ]
     },
     "execution_count": 212,
     "metadata": {},
     "output_type": "execute_result"
    }
   ],
   "source": [
    "data_filtered = data[data[\"int_income\"] > 150000]\n",
    "data_filtered[\"How far will you travel for Thanksgiving?\"].value_counts()"
   ]
  },
  {
   "cell_type": "markdown",
   "metadata": {},
   "source": [
    "As a percentage, to better compare"
   ]
  },
  {
   "cell_type": "code",
   "execution_count": 213,
   "metadata": {
    "collapsed": false
   },
   "outputs": [
    {
     "data": {
      "text/plain": [
       "Thanksgiving is happening at my home--I won't travel at all                         45.794393\n",
       "Thanksgiving is local--it will take place in the town I live in                     23.364486\n",
       "Thanksgiving is out of town but not too far--it's a drive of a few hours or less    14.953271\n",
       "Thanksgiving is out of town and far away--I have to drive several hours or fly      11.214953\n",
       "Name: How far will you travel for Thanksgiving?, dtype: float64"
      ]
     },
     "execution_count": 213,
     "metadata": {},
     "output_type": "execute_result"
    }
   ],
   "source": [
    "100. * data_filtered[\"How far will you travel for Thanksgiving?\"].value_counts() / len(data_filtered)"
   ]
  },
  {
   "cell_type": "markdown",
   "metadata": {},
   "source": [
    "### Conclusions"
   ]
  },
  {
   "cell_type": "markdown",
   "metadata": {},
   "source": [
    "People earning more than \\$150,000 are less likely to travel, 46% have it at home, compared to 39% of those earning less than $150,000. However, they are more likely to have to drive several hours or fly (11% compared to 7%). "
   ]
  },
  {
   "cell_type": "markdown",
   "metadata": {},
   "source": [
    "# Friendsgiving"
   ]
  },
  {
   "cell_type": "markdown",
   "metadata": {},
   "source": [
    "## Age"
   ]
  },
  {
   "cell_type": "code",
   "execution_count": 214,
   "metadata": {
    "collapsed": false,
    "scrolled": false
   },
   "outputs": [
    {
     "data": {
      "text/html": [
       "<div>\n",
       "<style>\n",
       "    .dataframe thead tr:only-child th {\n",
       "        text-align: right;\n",
       "    }\n",
       "\n",
       "    .dataframe thead th {\n",
       "        text-align: left;\n",
       "    }\n",
       "\n",
       "    .dataframe tbody tr th {\n",
       "        vertical-align: top;\n",
       "    }\n",
       "</style>\n",
       "<table border=\"1\" class=\"dataframe\">\n",
       "  <thead>\n",
       "    <tr>\n",
       "      <th></th>\n",
       "      <th colspan=\"2\" halign=\"left\">int_age</th>\n",
       "    </tr>\n",
       "    <tr>\n",
       "      <th>Have you ever attended a \"Friendsgiving?\"</th>\n",
       "      <th>No</th>\n",
       "      <th>Yes</th>\n",
       "    </tr>\n",
       "    <tr>\n",
       "      <th>Have you ever tried to meet up with hometown friends on Thanksgiving night?</th>\n",
       "      <th></th>\n",
       "      <th></th>\n",
       "    </tr>\n",
       "  </thead>\n",
       "  <tbody>\n",
       "    <tr>\n",
       "      <th>No</th>\n",
       "      <td>42.283702</td>\n",
       "      <td>37.010526</td>\n",
       "    </tr>\n",
       "    <tr>\n",
       "      <th>Yes</th>\n",
       "      <td>41.475410</td>\n",
       "      <td>33.976744</td>\n",
       "    </tr>\n",
       "  </tbody>\n",
       "</table>\n",
       "</div>"
      ],
      "text/plain": [
       "                                                      int_age           \n",
       "Have you ever attended a \"Friendsgiving?\"                  No        Yes\n",
       "Have you ever tried to meet up with hometown fr...                      \n",
       "No                                                  42.283702  37.010526\n",
       "Yes                                                 41.475410  33.976744"
      ]
     },
     "execution_count": 214,
     "metadata": {},
     "output_type": "execute_result"
    }
   ],
   "source": [
    "pd.pivot_table(data,\n",
    "               index=[\"Have you ever tried to meet up with hometown friends on Thanksgiving night?\"], \n",
    "               values=[\"int_age\"],\n",
    "               columns=[\"Have you ever attended a \\\"Friendsgiving?\\\"\"])"
   ]
  },
  {
   "cell_type": "markdown",
   "metadata": {},
   "source": [
    "The average age was 39 in the data, so individuals meeting up with Friends on Thanksgivining night and having attended a Friendsgiving is below the average age of the sample by 6 years. People who try to meet up with Friends on Thanksgiving night are younger, but not younger than the average age of the sample. However, those that have ever attended a Friendsgiving below average age for the sample, suggesting that Friendsgiving is a young person trend. "
   ]
  },
  {
   "cell_type": "markdown",
   "metadata": {},
   "source": [
    "## Income"
   ]
  },
  {
   "cell_type": "code",
   "execution_count": 215,
   "metadata": {
    "collapsed": false,
    "scrolled": true
   },
   "outputs": [
    {
     "data": {
      "text/html": [
       "<div>\n",
       "<style>\n",
       "    .dataframe thead tr:only-child th {\n",
       "        text-align: right;\n",
       "    }\n",
       "\n",
       "    .dataframe thead th {\n",
       "        text-align: left;\n",
       "    }\n",
       "\n",
       "    .dataframe tbody tr th {\n",
       "        vertical-align: top;\n",
       "    }\n",
       "</style>\n",
       "<table border=\"1\" class=\"dataframe\">\n",
       "  <thead>\n",
       "    <tr>\n",
       "      <th></th>\n",
       "      <th colspan=\"2\" halign=\"left\">int_income</th>\n",
       "    </tr>\n",
       "    <tr>\n",
       "      <th>Have you ever attended a \"Friendsgiving?\"</th>\n",
       "      <th>No</th>\n",
       "      <th>Yes</th>\n",
       "    </tr>\n",
       "    <tr>\n",
       "      <th>Have you ever tried to meet up with hometown friends on Thanksgiving night?</th>\n",
       "      <th></th>\n",
       "      <th></th>\n",
       "    </tr>\n",
       "  </thead>\n",
       "  <tbody>\n",
       "    <tr>\n",
       "      <th>No</th>\n",
       "      <td>78914.549654</td>\n",
       "      <td>72894.736842</td>\n",
       "    </tr>\n",
       "    <tr>\n",
       "      <th>Yes</th>\n",
       "      <td>78750.000000</td>\n",
       "      <td>66019.736842</td>\n",
       "    </tr>\n",
       "  </tbody>\n",
       "</table>\n",
       "</div>"
      ],
      "text/plain": [
       "                                                      int_income              \n",
       "Have you ever attended a \"Friendsgiving?\"                     No           Yes\n",
       "Have you ever tried to meet up with hometown fr...                            \n",
       "No                                                  78914.549654  72894.736842\n",
       "Yes                                                 78750.000000  66019.736842"
      ]
     },
     "execution_count": 215,
     "metadata": {},
     "output_type": "execute_result"
    }
   ],
   "source": [
    "pd.pivot_table(data,\n",
    "               index=[\"Have you ever tried to meet up with hometown friends on Thanksgiving night?\"], \n",
    "               values=[\"int_income\"],\n",
    "               columns=[\"Have you ever attended a \\\"Friendsgiving?\\\"\"])"
   ]
  },
  {
   "cell_type": "markdown",
   "metadata": {},
   "source": [
    "The average income was $74,077. Individuals ever attending a Friendsgiving had a lower than average salary, which may align with their younger age. People who have never attended a Friendsgiving and don't try to meet up with Friends on Thanksgiving night were the highest average earners, potentially reflective of their increase age. "
   ]
  },
  {
   "cell_type": "markdown",
   "metadata": {},
   "source": [
    "# Find age, gender, and income based patterns in dinner menus."
   ]
  },
  {
   "cell_type": "markdown",
   "metadata": {},
   "source": [
    "Create a new column which makes gender and integar, where Male = 0 and Female = 1. "
   ]
  },
  {
   "cell_type": "code",
   "execution_count": 216,
   "metadata": {
    "collapsed": false
   },
   "outputs": [
    {
     "data": {
      "text/plain": [
       "count    1025.000000\n",
       "mean        0.530732\n",
       "std         0.499298\n",
       "min         0.000000\n",
       "25%         0.000000\n",
       "50%         1.000000\n",
       "75%         1.000000\n",
       "max         1.000000\n",
       "Name: sex, dtype: float64"
      ]
     },
     "execution_count": 216,
     "metadata": {},
     "output_type": "execute_result"
    }
   ],
   "source": [
    "def create_sex(gender_input):\n",
    "    if pd.isnull(gender_input):\n",
    "        return None\n",
    "    if gender_input == \"Male\" :\n",
    "        return int(0)\n",
    "    else:\n",
    "        return int(1)\n",
    "\n",
    "data[\"sex\"] = data[\"What is your gender?\"].apply(create_sex)\n",
    "data[\"sex\"].describe()"
   ]
  },
  {
   "cell_type": "code",
   "execution_count": 217,
   "metadata": {
    "collapsed": false
   },
   "outputs": [
    {
     "data": {
      "text/html": [
       "<div>\n",
       "<style>\n",
       "    .dataframe thead tr:only-child th {\n",
       "        text-align: right;\n",
       "    }\n",
       "\n",
       "    .dataframe thead th {\n",
       "        text-align: left;\n",
       "    }\n",
       "\n",
       "    .dataframe tbody tr th {\n",
       "        vertical-align: top;\n",
       "    }\n",
       "</style>\n",
       "<table border=\"1\" class=\"dataframe\">\n",
       "  <thead>\n",
       "    <tr style=\"text-align: right;\">\n",
       "      <th></th>\n",
       "      <th>int_age</th>\n",
       "      <th>int_income</th>\n",
       "      <th>sex</th>\n",
       "    </tr>\n",
       "    <tr>\n",
       "      <th>What is typically the main dish at your Thanksgiving dinner?</th>\n",
       "      <th></th>\n",
       "      <th></th>\n",
       "      <th></th>\n",
       "    </tr>\n",
       "  </thead>\n",
       "  <tbody>\n",
       "    <tr>\n",
       "      <th>Chicken</th>\n",
       "      <td>39.500000</td>\n",
       "      <td>40500.000000</td>\n",
       "      <td>0.500000</td>\n",
       "    </tr>\n",
       "    <tr>\n",
       "      <th>Ham/Pork</th>\n",
       "      <td>33.857143</td>\n",
       "      <td>65370.370370</td>\n",
       "      <td>0.535714</td>\n",
       "    </tr>\n",
       "    <tr>\n",
       "      <th>I don't know</th>\n",
       "      <td>21.000000</td>\n",
       "      <td>16666.666667</td>\n",
       "      <td>0.500000</td>\n",
       "    </tr>\n",
       "    <tr>\n",
       "      <th>Other (please specify)</th>\n",
       "      <td>43.028571</td>\n",
       "      <td>79193.548387</td>\n",
       "      <td>0.628571</td>\n",
       "    </tr>\n",
       "    <tr>\n",
       "      <th>Roast beef</th>\n",
       "      <td>39.900000</td>\n",
       "      <td>35625.000000</td>\n",
       "      <td>0.400000</td>\n",
       "    </tr>\n",
       "    <tr>\n",
       "      <th>Tofurkey</th>\n",
       "      <td>32.400000</td>\n",
       "      <td>73235.294118</td>\n",
       "      <td>0.650000</td>\n",
       "    </tr>\n",
       "    <tr>\n",
       "      <th>Turducken</th>\n",
       "      <td>40.000000</td>\n",
       "      <td>200000.000000</td>\n",
       "      <td>0.333333</td>\n",
       "    </tr>\n",
       "    <tr>\n",
       "      <th>Turkey</th>\n",
       "      <td>40.462275</td>\n",
       "      <td>77113.543092</td>\n",
       "      <td>0.541317</td>\n",
       "    </tr>\n",
       "  </tbody>\n",
       "</table>\n",
       "</div>"
      ],
      "text/plain": [
       "                                                      int_age     int_income  \\\n",
       "What is typically the main dish at your Thanksg...                             \n",
       "Chicken                                             39.500000   40500.000000   \n",
       "Ham/Pork                                            33.857143   65370.370370   \n",
       "I don't know                                        21.000000   16666.666667   \n",
       "Other (please specify)                              43.028571   79193.548387   \n",
       "Roast beef                                          39.900000   35625.000000   \n",
       "Tofurkey                                            32.400000   73235.294118   \n",
       "Turducken                                           40.000000  200000.000000   \n",
       "Turkey                                              40.462275   77113.543092   \n",
       "\n",
       "                                                         sex  \n",
       "What is typically the main dish at your Thanksg...            \n",
       "Chicken                                             0.500000  \n",
       "Ham/Pork                                            0.535714  \n",
       "I don't know                                        0.500000  \n",
       "Other (please specify)                              0.628571  \n",
       "Roast beef                                          0.400000  \n",
       "Tofurkey                                            0.650000  \n",
       "Turducken                                           0.333333  \n",
       "Turkey                                              0.541317  "
      ]
     },
     "execution_count": 217,
     "metadata": {},
     "output_type": "execute_result"
    }
   ],
   "source": [
    "pd.pivot_table(data,\n",
    "               index=['What is typically the main dish at your Thanksgiving dinner?'], \n",
    "               values=[\"int_income\", \"int_age\", \"sex\"])"
   ]
  },
  {
   "cell_type": "raw",
   "metadata": {},
   "source": [
    "For the main dish, the youngest sample participants don't know what they have for dinner, potentially as they are not hosting/making the meal themselves. There are other differences in age, as the average age for Tofurkey is 32.4, much lower than the other mains. The oldest groups are making a tradition Turkey, a multi bird dinner (Turducken) or choosing another main entirely. \n",
    "\n",
    "Pople with the lowest income are choosing chicken for main. This is substainially lower than the other mains. Again, those that don't know what is for dinner have the lowest income, which combined with the low age suggest they are not likely to be themselves hosting but still attending their parents or other family members meals. The biggest income does a multiple bird meal (Turducken), which may in turn be the most expensive main, considering it is three birds combined. \n",
    "\n",
    "There is a few sex differences with more females serving Tofurkey and other mains than males who prefer the multi bird main (Turducken) and roast beef. "
   ]
  },
  {
   "cell_type": "code",
   "execution_count": 218,
   "metadata": {
    "collapsed": false,
    "scrolled": true
   },
   "outputs": [
    {
     "data": {
      "text/html": [
       "<div>\n",
       "<style>\n",
       "    .dataframe thead tr:only-child th {\n",
       "        text-align: right;\n",
       "    }\n",
       "\n",
       "    .dataframe thead th {\n",
       "        text-align: left;\n",
       "    }\n",
       "\n",
       "    .dataframe tbody tr th {\n",
       "        vertical-align: top;\n",
       "    }\n",
       "</style>\n",
       "<table border=\"1\" class=\"dataframe\">\n",
       "  <thead>\n",
       "    <tr style=\"text-align: right;\">\n",
       "      <th></th>\n",
       "      <th>int_age</th>\n",
       "      <th>int_income</th>\n",
       "      <th>sex</th>\n",
       "    </tr>\n",
       "    <tr>\n",
       "      <th>What kind of stuffing/dressing do you typically have?</th>\n",
       "      <th></th>\n",
       "      <th></th>\n",
       "      <th></th>\n",
       "    </tr>\n",
       "  </thead>\n",
       "  <tbody>\n",
       "    <tr>\n",
       "      <th>Bread-based</th>\n",
       "      <td>40.474265</td>\n",
       "      <td>78135.359116</td>\n",
       "      <td>0.551471</td>\n",
       "    </tr>\n",
       "    <tr>\n",
       "      <th>None</th>\n",
       "      <td>35.947368</td>\n",
       "      <td>62209.302326</td>\n",
       "      <td>0.596491</td>\n",
       "    </tr>\n",
       "    <tr>\n",
       "      <th>Other (please specify)</th>\n",
       "      <td>47.382353</td>\n",
       "      <td>81290.322581</td>\n",
       "      <td>0.558824</td>\n",
       "    </tr>\n",
       "    <tr>\n",
       "      <th>Rice-based</th>\n",
       "      <td>31.950000</td>\n",
       "      <td>39032.258065</td>\n",
       "      <td>0.300000</td>\n",
       "    </tr>\n",
       "  </tbody>\n",
       "</table>\n",
       "</div>"
      ],
      "text/plain": [
       "                                                      int_age    int_income  \\\n",
       "What kind of stuffing/dressing do you typically...                            \n",
       "Bread-based                                         40.474265  78135.359116   \n",
       "None                                                35.947368  62209.302326   \n",
       "Other (please specify)                              47.382353  81290.322581   \n",
       "Rice-based                                          31.950000  39032.258065   \n",
       "\n",
       "                                                         sex  \n",
       "What kind of stuffing/dressing do you typically...            \n",
       "Bread-based                                         0.551471  \n",
       "None                                                0.596491  \n",
       "Other (please specify)                              0.558824  \n",
       "Rice-based                                          0.300000  "
      ]
     },
     "execution_count": 218,
     "metadata": {},
     "output_type": "execute_result"
    }
   ],
   "source": [
    "pd.pivot_table(data,\n",
    "               index=['What kind of stuffing/dressing do you typically have?'], \n",
    "               values=[\"int_income\", \"int_age\", \"sex\"])"
   ]
  },
  {
   "cell_type": "markdown",
   "metadata": {},
   "source": [
    "The youngest indviduals with the least income who are mostly Male are serving rice-based stuffing. "
   ]
  },
  {
   "cell_type": "code",
   "execution_count": 219,
   "metadata": {
    "collapsed": false
   },
   "outputs": [
    {
     "data": {
      "text/html": [
       "<div>\n",
       "<style>\n",
       "    .dataframe thead tr:only-child th {\n",
       "        text-align: right;\n",
       "    }\n",
       "\n",
       "    .dataframe thead th {\n",
       "        text-align: left;\n",
       "    }\n",
       "\n",
       "    .dataframe tbody tr th {\n",
       "        vertical-align: top;\n",
       "    }\n",
       "</style>\n",
       "<table border=\"1\" class=\"dataframe\">\n",
       "  <thead>\n",
       "    <tr style=\"text-align: right;\">\n",
       "      <th></th>\n",
       "      <th>int_age</th>\n",
       "      <th>int_income</th>\n",
       "      <th>sex</th>\n",
       "    </tr>\n",
       "    <tr>\n",
       "      <th>What type of cranberry saucedo you typically have?</th>\n",
       "      <th></th>\n",
       "      <th></th>\n",
       "      <th></th>\n",
       "    </tr>\n",
       "  </thead>\n",
       "  <tbody>\n",
       "    <tr>\n",
       "      <th>Canned</th>\n",
       "      <td>41.902439</td>\n",
       "      <td>73102.272727</td>\n",
       "      <td>0.552846</td>\n",
       "    </tr>\n",
       "    <tr>\n",
       "      <th>Homemade</th>\n",
       "      <td>39.731707</td>\n",
       "      <td>84838.056680</td>\n",
       "      <td>0.533101</td>\n",
       "    </tr>\n",
       "    <tr>\n",
       "      <th>None</th>\n",
       "      <td>34.258741</td>\n",
       "      <td>68235.294118</td>\n",
       "      <td>0.517483</td>\n",
       "    </tr>\n",
       "    <tr>\n",
       "      <th>Other (please specify)</th>\n",
       "      <td>41.880000</td>\n",
       "      <td>75434.782609</td>\n",
       "      <td>0.640000</td>\n",
       "    </tr>\n",
       "  </tbody>\n",
       "</table>\n",
       "</div>"
      ],
      "text/plain": [
       "                                                      int_age    int_income  \\\n",
       "What type of cranberry saucedo you typically have?                            \n",
       "Canned                                              41.902439  73102.272727   \n",
       "Homemade                                            39.731707  84838.056680   \n",
       "None                                                34.258741  68235.294118   \n",
       "Other (please specify)                              41.880000  75434.782609   \n",
       "\n",
       "                                                         sex  \n",
       "What type of cranberry saucedo you typically have?            \n",
       "Canned                                              0.552846  \n",
       "Homemade                                            0.533101  \n",
       "None                                                0.517483  \n",
       "Other (please specify)                              0.640000  "
      ]
     },
     "execution_count": 219,
     "metadata": {},
     "output_type": "execute_result"
    }
   ],
   "source": [
    "pd.pivot_table(data,\n",
    "               index=['What type of cranberry saucedo you typically have?'], \n",
    "               values=[\"int_income\", \"int_age\", \"sex\"])"
   ]
  },
  {
   "cell_type": "markdown",
   "metadata": {},
   "source": [
    "Slightly younger individuals with a great income are serving homemade cranberry sauce rather than canned. "
   ]
  },
  {
   "cell_type": "code",
   "execution_count": 220,
   "metadata": {
    "collapsed": false,
    "scrolled": true
   },
   "outputs": [
    {
     "data": {
      "text/html": [
       "<div>\n",
       "<style>\n",
       "    .dataframe thead tr:only-child th {\n",
       "        text-align: right;\n",
       "    }\n",
       "\n",
       "    .dataframe thead th {\n",
       "        text-align: left;\n",
       "    }\n",
       "\n",
       "    .dataframe tbody tr th {\n",
       "        vertical-align: top;\n",
       "    }\n",
       "</style>\n",
       "<table border=\"1\" class=\"dataframe\">\n",
       "  <thead>\n",
       "    <tr style=\"text-align: right;\">\n",
       "      <th></th>\n",
       "      <th>int_age</th>\n",
       "      <th>int_income</th>\n",
       "      <th>sex</th>\n",
       "    </tr>\n",
       "    <tr>\n",
       "      <th>Do you typically have gravy?</th>\n",
       "      <th></th>\n",
       "      <th></th>\n",
       "      <th></th>\n",
       "    </tr>\n",
       "  </thead>\n",
       "  <tbody>\n",
       "    <tr>\n",
       "      <th>No</th>\n",
       "      <td>37.168831</td>\n",
       "      <td>58880.597015</td>\n",
       "      <td>0.623377</td>\n",
       "    </tr>\n",
       "    <tr>\n",
       "      <th>Yes</th>\n",
       "      <td>40.348276</td>\n",
       "      <td>77467.191601</td>\n",
       "      <td>0.536782</td>\n",
       "    </tr>\n",
       "  </tbody>\n",
       "</table>\n",
       "</div>"
      ],
      "text/plain": [
       "                                int_age    int_income       sex\n",
       "Do you typically have gravy?                                   \n",
       "No                            37.168831  58880.597015  0.623377\n",
       "Yes                           40.348276  77467.191601  0.536782"
      ]
     },
     "execution_count": 220,
     "metadata": {},
     "output_type": "execute_result"
    }
   ],
   "source": [
    "pd.pivot_table(data,\n",
    "               index=['Do you typically have gravy?'], \n",
    "               values=[\"int_income\", \"int_age\", \"sex\"])"
   ]
  },
  {
   "cell_type": "markdown",
   "metadata": {},
   "source": [
    "Those that do not serve gravy are younger females on a lower income. "
   ]
  },
  {
   "cell_type": "markdown",
   "metadata": {},
   "source": [
    "# Identify how many people work on Black Friday."
   ]
  },
  {
   "cell_type": "code",
   "execution_count": 221,
   "metadata": {
    "collapsed": false
   },
   "outputs": [
    {
     "data": {
      "text/plain": [
       "Yes              2.803738\n",
       "No               1.869159\n",
       "Doesn't apply    0.934579\n",
       "Name: Will you employer make you work on Black Friday?, dtype: float64"
      ]
     },
     "execution_count": 221,
     "metadata": {},
     "output_type": "execute_result"
    }
   ],
   "source": [
    "100. * data_filtered['Will you employer make you work on Black Friday?'].value_counts() / len(data_filtered)"
   ]
  },
  {
   "cell_type": "code",
   "execution_count": 222,
   "metadata": {
    "collapsed": false,
    "scrolled": true
   },
   "outputs": [
    {
     "data": {
      "text/plain": [
       "Yes              43\n",
       "No               20\n",
       "Doesn't apply     7\n",
       "Name: Will you employer make you work on Black Friday?, dtype: int64"
      ]
     },
     "execution_count": 222,
     "metadata": {},
     "output_type": "execute_result"
    }
   ],
   "source": [
    " data['Will you employer make you work on Black Friday?'].value_counts()\n"
   ]
  },
  {
   "cell_type": "markdown",
   "metadata": {
    "collapsed": true
   },
   "source": [
    "Roughly 3% of the individuals in the sample may have to work on Black Friday, which is roughly 43 people. "
   ]
  }
 ],
 "metadata": {
  "anaconda-cloud": {},
  "kernelspec": {
   "display_name": "Python [python3]",
   "language": "python",
   "name": "Python [python3]"
  },
  "language_info": {
   "codemirror_mode": {
    "name": "ipython",
    "version": 3
   },
   "file_extension": ".py",
   "mimetype": "text/x-python",
   "name": "python",
   "nbconvert_exporter": "python",
   "pygments_lexer": "ipython3",
   "version": "3.6.0"
  }
 },
 "nbformat": 4,
 "nbformat_minor": 0
}
