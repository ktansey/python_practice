{
 "cells": [
  {
   "cell_type": "markdown",
   "metadata": {},
   "source": [
    "# US Gun Deaths"
   ]
  },
  {
   "cell_type": "markdown",
   "metadata": {},
   "source": [
    "## Load data"
   ]
  },
  {
   "cell_type": "code",
   "execution_count": 1,
   "metadata": {
    "collapsed": true
   },
   "outputs": [],
   "source": [
    "import csv \n",
    "import datetime"
   ]
  },
  {
   "cell_type": "code",
   "execution_count": 2,
   "metadata": {
    "collapsed": true
   },
   "outputs": [],
   "source": [
    "with open(\"guns.csv\", \"r\") as f:\n",
    "    reader = csv.reader(f)\n",
    "    data = list(reader)"
   ]
  },
  {
   "cell_type": "code",
   "execution_count": 3,
   "metadata": {
    "collapsed": false
   },
   "outputs": [
    {
     "data": {
      "text/plain": [
       "[['',\n",
       "  'year',\n",
       "  'month',\n",
       "  'intent',\n",
       "  'police',\n",
       "  'sex',\n",
       "  'age',\n",
       "  'race',\n",
       "  'hispanic',\n",
       "  'place',\n",
       "  'education'],\n",
       " ['1',\n",
       "  '2012',\n",
       "  '01',\n",
       "  'Suicide',\n",
       "  '0',\n",
       "  'M',\n",
       "  '34',\n",
       "  'Asian/Pacific Islander',\n",
       "  '100',\n",
       "  'Home',\n",
       "  '4'],\n",
       " ['2', '2012', '01', 'Suicide', '0', 'F', '21', 'White', '100', 'Street', '3'],\n",
       " ['3',\n",
       "  '2012',\n",
       "  '01',\n",
       "  'Suicide',\n",
       "  '0',\n",
       "  'M',\n",
       "  '60',\n",
       "  'White',\n",
       "  '100',\n",
       "  'Other specified',\n",
       "  '4'],\n",
       " ['4', '2012', '02', 'Suicide', '0', 'M', '64', 'White', '100', 'Home', '4']]"
      ]
     },
     "execution_count": 3,
     "metadata": {},
     "output_type": "execute_result"
    }
   ],
   "source": [
    "data[0:5]"
   ]
  },
  {
   "cell_type": "code",
   "execution_count": 4,
   "metadata": {
    "collapsed": true
   },
   "outputs": [],
   "source": [
    "headers = data.pop(0)"
   ]
  },
  {
   "cell_type": "code",
   "execution_count": 5,
   "metadata": {
    "collapsed": false
   },
   "outputs": [
    {
     "data": {
      "text/plain": [
       "['',\n",
       " 'year',\n",
       " 'month',\n",
       " 'intent',\n",
       " 'police',\n",
       " 'sex',\n",
       " 'age',\n",
       " 'race',\n",
       " 'hispanic',\n",
       " 'place',\n",
       " 'education']"
      ]
     },
     "execution_count": 5,
     "metadata": {},
     "output_type": "execute_result"
    }
   ],
   "source": [
    "headers"
   ]
  },
  {
   "cell_type": "code",
   "execution_count": 6,
   "metadata": {
    "collapsed": false,
    "scrolled": true
   },
   "outputs": [
    {
     "data": {
      "text/plain": [
       "[['1',\n",
       "  '2012',\n",
       "  '01',\n",
       "  'Suicide',\n",
       "  '0',\n",
       "  'M',\n",
       "  '34',\n",
       "  'Asian/Pacific Islander',\n",
       "  '100',\n",
       "  'Home',\n",
       "  '4'],\n",
       " ['2', '2012', '01', 'Suicide', '0', 'F', '21', 'White', '100', 'Street', '3'],\n",
       " ['3',\n",
       "  '2012',\n",
       "  '01',\n",
       "  'Suicide',\n",
       "  '0',\n",
       "  'M',\n",
       "  '60',\n",
       "  'White',\n",
       "  '100',\n",
       "  'Other specified',\n",
       "  '4'],\n",
       " ['4', '2012', '02', 'Suicide', '0', 'M', '64', 'White', '100', 'Home', '4'],\n",
       " ['5',\n",
       "  '2012',\n",
       "  '02',\n",
       "  'Suicide',\n",
       "  '0',\n",
       "  'M',\n",
       "  '31',\n",
       "  'White',\n",
       "  '100',\n",
       "  'Other specified',\n",
       "  '2']]"
      ]
     },
     "execution_count": 6,
     "metadata": {},
     "output_type": "execute_result"
    }
   ],
   "source": [
    "data[0:5]"
   ]
  },
  {
   "cell_type": "markdown",
   "metadata": {},
   "source": [
    "# Gun deaths by time"
   ]
  },
  {
   "cell_type": "markdown",
   "metadata": {},
   "source": [
    "## Year"
   ]
  },
  {
   "cell_type": "code",
   "execution_count": 7,
   "metadata": {
    "collapsed": false,
    "scrolled": true
   },
   "outputs": [
    {
     "data": {
      "text/plain": [
       "{'2012': 33563, '2013': 33636, '2014': 33599}"
      ]
     },
     "execution_count": 7,
     "metadata": {},
     "output_type": "execute_result"
    }
   ],
   "source": [
    "years = [items[1] for items in data]\n",
    "\n",
    "year_counts = {}\n",
    "\n",
    "for x in years:\n",
    "    if x not in year_counts:\n",
    "        year_counts[x] = 1\n",
    "    else:\n",
    "        year_counts[x] += 1\n",
    "\n",
    "year_counts"
   ]
  },
  {
   "cell_type": "markdown",
   "metadata": {},
   "source": [
    "Appear to be mostly stable over the 3 years being examined. "
   ]
  },
  {
   "cell_type": "markdown",
   "metadata": {},
   "source": [
    "## Month"
   ]
  },
  {
   "cell_type": "code",
   "execution_count": 8,
   "metadata": {
    "collapsed": false,
    "scrolled": false
   },
   "outputs": [
    {
     "data": {
      "text/plain": [
       "[datetime.datetime(2012, 1, 1, 0, 0),\n",
       " datetime.datetime(2012, 1, 1, 0, 0),\n",
       " datetime.datetime(2012, 1, 1, 0, 0),\n",
       " datetime.datetime(2012, 2, 1, 0, 0),\n",
       " datetime.datetime(2012, 2, 1, 0, 0)]"
      ]
     },
     "execution_count": 8,
     "metadata": {},
     "output_type": "execute_result"
    }
   ],
   "source": [
    "dates = [datetime.datetime(year=int(row[1]), month=int(row[2]), day=1) for row in data]\n",
    "dates[:5]"
   ]
  },
  {
   "cell_type": "code",
   "execution_count": 9,
   "metadata": {
    "collapsed": false,
    "scrolled": true
   },
   "outputs": [
    {
     "data": {
      "text/plain": [
       "{datetime.datetime(2012, 1, 1, 0, 0): 2758,\n",
       " datetime.datetime(2012, 2, 1, 0, 0): 2357,\n",
       " datetime.datetime(2012, 3, 1, 0, 0): 2743,\n",
       " datetime.datetime(2012, 4, 1, 0, 0): 2795,\n",
       " datetime.datetime(2012, 5, 1, 0, 0): 2999,\n",
       " datetime.datetime(2012, 6, 1, 0, 0): 2826,\n",
       " datetime.datetime(2012, 7, 1, 0, 0): 3026,\n",
       " datetime.datetime(2012, 8, 1, 0, 0): 2954,\n",
       " datetime.datetime(2012, 9, 1, 0, 0): 2852,\n",
       " datetime.datetime(2012, 10, 1, 0, 0): 2733,\n",
       " datetime.datetime(2012, 11, 1, 0, 0): 2729,\n",
       " datetime.datetime(2012, 12, 1, 0, 0): 2791,\n",
       " datetime.datetime(2013, 1, 1, 0, 0): 2864,\n",
       " datetime.datetime(2013, 2, 1, 0, 0): 2375,\n",
       " datetime.datetime(2013, 3, 1, 0, 0): 2862,\n",
       " datetime.datetime(2013, 4, 1, 0, 0): 2798,\n",
       " datetime.datetime(2013, 5, 1, 0, 0): 2806,\n",
       " datetime.datetime(2013, 6, 1, 0, 0): 2920,\n",
       " datetime.datetime(2013, 7, 1, 0, 0): 3079,\n",
       " datetime.datetime(2013, 8, 1, 0, 0): 2859,\n",
       " datetime.datetime(2013, 9, 1, 0, 0): 2742,\n",
       " datetime.datetime(2013, 10, 1, 0, 0): 2808,\n",
       " datetime.datetime(2013, 11, 1, 0, 0): 2758,\n",
       " datetime.datetime(2013, 12, 1, 0, 0): 2765,\n",
       " datetime.datetime(2014, 1, 1, 0, 0): 2651,\n",
       " datetime.datetime(2014, 2, 1, 0, 0): 2361,\n",
       " datetime.datetime(2014, 3, 1, 0, 0): 2684,\n",
       " datetime.datetime(2014, 4, 1, 0, 0): 2862,\n",
       " datetime.datetime(2014, 5, 1, 0, 0): 2864,\n",
       " datetime.datetime(2014, 6, 1, 0, 0): 2931,\n",
       " datetime.datetime(2014, 7, 1, 0, 0): 2884,\n",
       " datetime.datetime(2014, 8, 1, 0, 0): 2970,\n",
       " datetime.datetime(2014, 9, 1, 0, 0): 2914,\n",
       " datetime.datetime(2014, 10, 1, 0, 0): 2865,\n",
       " datetime.datetime(2014, 11, 1, 0, 0): 2756,\n",
       " datetime.datetime(2014, 12, 1, 0, 0): 2857}"
      ]
     },
     "execution_count": 9,
     "metadata": {},
     "output_type": "execute_result"
    }
   ],
   "source": [
    "date_counts = {}\n",
    "\n",
    "for x in dates:\n",
    "    if x not in date_counts:\n",
    "        date_counts[x] = 1\n",
    "    else:\n",
    "        date_counts[x] += 1\n",
    "\n",
    "date_counts"
   ]
  },
  {
   "cell_type": "markdown",
   "metadata": {},
   "source": [
    "# Gun deaths by sex"
   ]
  },
  {
   "cell_type": "code",
   "execution_count": 10,
   "metadata": {
    "collapsed": false,
    "scrolled": true
   },
   "outputs": [
    {
     "data": {
      "text/plain": [
       "{'F': 14449, 'M': 86349}"
      ]
     },
     "execution_count": 10,
     "metadata": {},
     "output_type": "execute_result"
    }
   ],
   "source": [
    "sexes = [items[5] for items in data]\n",
    "\n",
    "sex_counts = {}\n",
    "\n",
    "for x in sexes:\n",
    "    if x not in sex_counts:\n",
    "        sex_counts[x] = 1\n",
    "    else:\n",
    "        sex_counts[x] += 1\n",
    "\n",
    "sex_counts"
   ]
  },
  {
   "cell_type": "markdown",
   "metadata": {},
   "source": [
    "Many more Males die by gun deaths than Females.  Even though these are totals and not proportion, the rate of males and females is roughly even, and the difference here in the total number of death in the sexes is too large to be explained by any difference in the proportion of sexes in the population. "
   ]
  },
  {
   "cell_type": "markdown",
   "metadata": {},
   "source": [
    "# Gun deaths by race"
   ]
  },
  {
   "cell_type": "code",
   "execution_count": 12,
   "metadata": {
    "collapsed": false
   },
   "outputs": [
    {
     "data": {
      "text/plain": [
       "{'Asian/Pacific Islander': 1326,\n",
       " 'Black': 23296,\n",
       " 'Hispanic': 9022,\n",
       " 'Native American/Native Alaskan': 917,\n",
       " 'White': 66237}"
      ]
     },
     "execution_count": 12,
     "metadata": {},
     "output_type": "execute_result"
    }
   ],
   "source": [
    "races = [items[7] for items in data]\n",
    "\n",
    "race_counts = {}\n",
    "\n",
    "for x in races:\n",
    "    if x not in race_counts:\n",
    "        race_counts[x] = 1\n",
    "    else:\n",
    "        race_counts[x] += 1\n",
    "\n",
    "race_counts"
   ]
  },
  {
   "cell_type": "markdown",
   "metadata": {},
   "source": [
    "More White individuals die of gun deaths than other races. \n",
    "However, since there is a larger proportion of White individuals die of gun deaths than other races this number is skewed. Unlike with sex, the racial make up for the USA is not even, with the total population for groups like Asian/Pacific Islander being much smaller than White. So instead of looking at total numbers, we should really look at percentages/proportions."
   ]
  },
  {
   "cell_type": "markdown",
   "metadata": {},
   "source": [
    "### Load in census information with total population sizes"
   ]
  },
  {
   "cell_type": "code",
   "execution_count": 15,
   "metadata": {
    "collapsed": false
   },
   "outputs": [
    {
     "data": {
      "text/plain": [
       "[['Id',\n",
       "  'Year',\n",
       "  'Id',\n",
       "  'Sex',\n",
       "  'Id',\n",
       "  'Hispanic Origin',\n",
       "  'Id',\n",
       "  'Id2',\n",
       "  'Geography',\n",
       "  'Total',\n",
       "  'Race Alone - White',\n",
       "  'Race Alone - Hispanic',\n",
       "  'Race Alone - Black or African American',\n",
       "  'Race Alone - American Indian and Alaska Native',\n",
       "  'Race Alone - Asian',\n",
       "  'Race Alone - Native Hawaiian and Other Pacific Islander',\n",
       "  'Two or More Races'],\n",
       " ['cen42010',\n",
       "  'April 1, 2010 Census',\n",
       "  'totsex',\n",
       "  'Both Sexes',\n",
       "  'tothisp',\n",
       "  'Total',\n",
       "  '0100000US',\n",
       "  '',\n",
       "  'United States',\n",
       "  '308745538',\n",
       "  '197318956',\n",
       "  '44618105',\n",
       "  '40250635',\n",
       "  '3739506',\n",
       "  '15159516',\n",
       "  '674625',\n",
       "  '6984195']]"
      ]
     },
     "execution_count": 15,
     "metadata": {},
     "output_type": "execute_result"
    }
   ],
   "source": [
    "with open('census.csv', 'r') as csvfile:\n",
    "    reader = csv.reader(csvfile)\n",
    "    census = list(reader)\n",
    "    \n",
    "census"
   ]
  },
  {
   "cell_type": "code",
   "execution_count": 16,
   "metadata": {
    "collapsed": true
   },
   "outputs": [],
   "source": [
    "mapping = {\n",
    "    \"Asian/Pacific Islander\": 15159516 + 674625,\n",
    "    \"Native American/Native Alaskan\": 3739506,\n",
    "    \"Black\": 40250635,\n",
    "    \"Hispanic\": 44618105,\n",
    "    \"White\": 197318956\n",
    "}"
   ]
  },
  {
   "cell_type": "markdown",
   "metadata": {},
   "source": [
    "### Gun death by race per 100,000 individuals"
   ]
  },
  {
   "cell_type": "code",
   "execution_count": 17,
   "metadata": {
    "collapsed": false,
    "scrolled": true
   },
   "outputs": [
    {
     "data": {
      "text/plain": [
       "{'Asian/Pacific Islander': 8.374309664161762,\n",
       " 'Black': 57.8773477735196,\n",
       " 'Hispanic': 20.220491210910907,\n",
       " 'Native American/Native Alaskan': 24.521955573811088,\n",
       " 'White': 33.56849303419181}"
      ]
     },
     "execution_count": 17,
     "metadata": {},
     "output_type": "execute_result"
    }
   ],
   "source": [
    "race_per_hundredk = {}\n",
    "\n",
    "for key in race_counts:\n",
    "    if key not in race_per_hundredk:\n",
    "        race_per_hundredk[key] = (race_counts[key] / mapping[key]) * 100000\n",
    "\n",
    "        \n",
    "race_per_hundredk       "
   ]
  },
  {
   "cell_type": "markdown",
   "metadata": {},
   "source": [
    "The rate of gun deaths in Black individuals is much higher than any other race.  \n",
    "\n",
    "The data has numerous causes of death, including Homicide, Suicide and Accidental, and it would be interesting to the rate of these by race to determine if a partuclar type of gun death occured at a higher rate in a particular racial group. "
   ]
  },
  {
   "cell_type": "markdown",
   "metadata": {},
   "source": [
    "## Homicide gun death by race per 100,000 individuals "
   ]
  },
  {
   "cell_type": "code",
   "execution_count": 18,
   "metadata": {
    "collapsed": false
   },
   "outputs": [
    {
     "data": {
      "text/plain": [
       "{'Asian/Pacific Islander': 3.530346230970155,\n",
       " 'Black': 48.471284987180944,\n",
       " 'Hispanic': 12.627161104219914,\n",
       " 'Native American/Native Alaskan': 8.717729026240365,\n",
       " 'White': 4.6356417981453335}"
      ]
     },
     "execution_count": 18,
     "metadata": {},
     "output_type": "execute_result"
    }
   ],
   "source": [
    "races = [items[7] for items in data]\n",
    "intents = [items[3] for items in data]\n",
    "\n",
    "homicide_race_counts = {}\n",
    "\n",
    "for i, x in enumerate(races):\n",
    "    if intents[i] == 'Homicide' :\n",
    "        if x not in homicide_race_counts:\n",
    "            homicide_race_counts[x] = 1\n",
    "        else:\n",
    "            homicide_race_counts[x] += 1\n",
    "\n",
    "homicide_race_per_hundredk = {}\n",
    "for key in homicide_race_counts:\n",
    "    if key not in homicide_race_per_hundredk:\n",
    "        homicide_race_per_hundredk[key] = (homicide_race_counts[key] / mapping[key]) * 100000\n",
    "\n",
    "homicide_race_per_hundredk"
   ]
  },
  {
   "cell_type": "markdown",
   "metadata": {},
   "source": [
    "When looking at just gun deaths by Homicide, the rate in Black individuals is by far the highest of all the races."
   ]
  },
  {
   "cell_type": "markdown",
   "metadata": {},
   "source": [
    "### Homicide gun death by race and gender"
   ]
  },
  {
   "cell_type": "code",
   "execution_count": 20,
   "metadata": {
    "collapsed": false,
    "scrolled": true
   },
   "outputs": [
    {
     "data": {
      "text/plain": [
       "{'Asian/Pacific Islander_F': 140,\n",
       " 'Asian/Pacific Islander_M': 419,\n",
       " 'Black_F': 1898,\n",
       " 'Black_M': 17612,\n",
       " 'Hispanic_F': 695,\n",
       " 'Hispanic_M': 4939,\n",
       " 'Native American/Native Alaskan_F': 60,\n",
       " 'Native American/Native Alaskan_M': 266,\n",
       " 'White_F': 2580,\n",
       " 'White_M': 6567}"
      ]
     },
     "execution_count": 20,
     "metadata": {},
     "output_type": "execute_result"
    }
   ],
   "source": [
    "races = [items[7] for items in data]\n",
    "intents = [items[3] for items in data]\n",
    "sex = [items[5] for items in data]\n",
    "\n",
    "homicide_race_gender_counts = {}\n",
    "\n",
    "for i, x in enumerate(races):\n",
    "    if intents[i] == 'Homicide' :\n",
    "        if sex[i] == 'M' : \n",
    "            key = x + \"_\" + sex[i]\n",
    "            if key not in homicide_race_gender_counts:\n",
    "                homicide_race_gender_counts[key] = 1\n",
    "            else:\n",
    "                homicide_race_gender_counts[key] += 1\n",
    "        if sex[i] == 'F' : \n",
    "            key = x + \"_\" + sex[i]\n",
    "            if key not in homicide_race_gender_counts:\n",
    "                homicide_race_gender_counts[key] = 1\n",
    "            else:\n",
    "                homicide_race_gender_counts[key] += 1\n",
    "\n",
    "homicide_race_gender_counts"
   ]
  },
  {
   "cell_type": "markdown",
   "metadata": {},
   "source": [
    "Unfortunately can not do this as a rate as the census data did not have information by gender but just for the total population. However, we can still see the total number of gun deaths by homicides is the highest in Black Males, and that for all races, the total gun deaths by homicides is higher in Males than it is in Females. "
   ]
  },
  {
   "cell_type": "markdown",
   "metadata": {},
   "source": [
    "## Suicide gun death by race per 100,000 individuals "
   ]
  },
  {
   "cell_type": "code",
   "execution_count": 21,
   "metadata": {
    "collapsed": false
   },
   "outputs": [
    {
     "data": {
      "text/plain": [
       "{'Asian/Pacific Islander': 4.705023152187416,\n",
       " 'Black': 8.278130270491385,\n",
       " 'Hispanic': 7.106980451097149,\n",
       " 'Native American/Native Alaskan': 14.841532544673013,\n",
       " 'White': 28.06217969245692}"
      ]
     },
     "execution_count": 21,
     "metadata": {},
     "output_type": "execute_result"
    }
   ],
   "source": [
    "races = [items[7] for items in data]\n",
    "intents = [items[3] for items in data]\n",
    "\n",
    "sucides_race_counts = {}\n",
    "\n",
    "for i, x in enumerate(races):\n",
    "    if intents[i] == 'Suicide' :\n",
    "        if x not in sucides_race_counts:\n",
    "            sucides_race_counts[x] = 1\n",
    "        else:\n",
    "            sucides_race_counts[x] += 1\n",
    "\n",
    "sucides_race_per_hundredk = {}\n",
    "for key in sucides_race_counts:\n",
    "    if key not in sucides_race_per_hundredk:\n",
    "        sucides_race_per_hundredk[key] = (sucides_race_counts[key] / mapping[key]) * 100000\n",
    "\n",
    "sucides_race_per_hundredk\n"
   ]
  },
  {
   "cell_type": "markdown",
   "metadata": {},
   "source": [
    "For gun deaths by Suicides, White individuals have the highest rate compared to other races. The rate is also very high in Native American/Native Alaskan populations. "
   ]
  },
  {
   "cell_type": "markdown",
   "metadata": {},
   "source": [
    "### Suicide gun death by race and gender"
   ]
  },
  {
   "cell_type": "code",
   "execution_count": 22,
   "metadata": {
    "collapsed": false,
    "scrolled": true
   },
   "outputs": [
    {
     "data": {
      "text/plain": [
       "{'Asian/Pacific Islander_F': 99,\n",
       " 'Asian/Pacific Islander_M': 646,\n",
       " 'Black_F': 364,\n",
       " 'Black_M': 2968,\n",
       " 'Hispanic_F': 347,\n",
       " 'Hispanic_M': 2824,\n",
       " 'Native American/Native Alaskan_F': 62,\n",
       " 'Native American/Native Alaskan_M': 493,\n",
       " 'White_F': 7817,\n",
       " 'White_M': 47555}"
      ]
     },
     "execution_count": 22,
     "metadata": {},
     "output_type": "execute_result"
    }
   ],
   "source": [
    "races = [items[7] for items in data]\n",
    "intents = [items[3] for items in data]\n",
    "sex = [items[5] for items in data]\n",
    "\n",
    "suicide_race_gender_counts = {}\n",
    "\n",
    "for i, x in enumerate(races):\n",
    "    if intents[i] == 'Suicide' :\n",
    "        if sex[i] == 'M' : \n",
    "            key = x + \"_\" + sex[i]\n",
    "            if key not in suicide_race_gender_counts:\n",
    "                suicide_race_gender_counts[key] = 1\n",
    "            else:\n",
    "                suicide_race_gender_counts[key] += 1\n",
    "        if sex[i] == 'F' : \n",
    "            key = x + \"_\" + sex[i]\n",
    "            if key not in suicide_race_gender_counts:\n",
    "                suicide_race_gender_counts[key] = 1\n",
    "            else:\n",
    "                suicide_race_gender_counts[key] += 1\n",
    "\n",
    "suicide_race_gender_counts"
   ]
  },
  {
   "cell_type": "markdown",
   "metadata": {},
   "source": [
    "The total number of gun deaths by suicide is the highest in White Males. For all races, the total gun deaths by suicides is higher in Males than it is in Females. "
   ]
  },
  {
   "cell_type": "markdown",
   "metadata": {},
   "source": [
    "## Accidental gun death by race per 100,000 individuals "
   ]
  },
  {
   "cell_type": "code",
   "execution_count": 23,
   "metadata": {
    "collapsed": false
   },
   "outputs": [
    {
     "data": {
      "text/plain": [
       "{'Asian/Pacific Islander': 0.07578560782046845,\n",
       " 'Black': 0.814893976206835,\n",
       " 'Hispanic': 0.3249801846133985,\n",
       " 'Native American/Native Alaskan': 0.5883130017708221,\n",
       " 'White': 0.5736904466492313}"
      ]
     },
     "execution_count": 23,
     "metadata": {},
     "output_type": "execute_result"
    }
   ],
   "source": [
    "races = [items[7] for items in data]\n",
    "intents = [items[3] for items in data]\n",
    "\n",
    "accident_race_counts = {}\n",
    "\n",
    "for i, x in enumerate(races):\n",
    "    if intents[i] == 'Accidental' :\n",
    "        if x not in accident_race_counts:\n",
    "            accident_race_counts[x] = 1\n",
    "        else:\n",
    "            accident_race_counts[x] += 1\n",
    "\n",
    "accident_race_per_hundredk = {}\n",
    "for key in accident_race_counts:\n",
    "    if key not in accident_race_per_hundredk:\n",
    "        accident_race_per_hundredk[key] = (accident_race_counts[key] / mapping[key]) * 100000\n",
    "\n",
    "accident_race_per_hundredk"
   ]
  },
  {
   "cell_type": "markdown",
   "metadata": {},
   "source": [
    "Accidental deaths are low for all races, with highest for Black individuals and lowest for Asian/Pacific Islanders individuals."
   ]
  },
  {
   "cell_type": "markdown",
   "metadata": {},
   "source": [
    "### Accidental gun death by race and gender"
   ]
  },
  {
   "cell_type": "code",
   "execution_count": 24,
   "metadata": {
    "collapsed": false
   },
   "outputs": [
    {
     "data": {
      "text/plain": [
       "{'Asian/Pacific Islander_F': 3,\n",
       " 'Asian/Pacific Islander_M': 9,\n",
       " 'Black_F': 34,\n",
       " 'Black_M': 294,\n",
       " 'Hispanic_F': 15,\n",
       " 'Hispanic_M': 130,\n",
       " 'Native American/Native Alaskan_F': 2,\n",
       " 'Native American/Native Alaskan_M': 20,\n",
       " 'White_F': 164,\n",
       " 'White_M': 968}"
      ]
     },
     "execution_count": 24,
     "metadata": {},
     "output_type": "execute_result"
    }
   ],
   "source": [
    "races = [items[7] for items in data]\n",
    "intents = [items[3] for items in data]\n",
    "sex = [items[5] for items in data]\n",
    "\n",
    "accident_race_gender_counts = {}\n",
    "\n",
    "for i, x in enumerate(races):\n",
    "    if intents[i] == 'Accidental' :\n",
    "        if sex[i] == 'M' : \n",
    "            key = x + \"_\" + sex[i]\n",
    "            if key not in accident_race_gender_counts:\n",
    "                accident_race_gender_counts[key] = 1\n",
    "            else:\n",
    "                accident_race_gender_counts[key] += 1\n",
    "        if sex[i] == 'F' : \n",
    "            key = x + \"_\" + sex[i]\n",
    "            if key not in accident_race_gender_counts:\n",
    "                accident_race_gender_counts[key] = 1\n",
    "            else:\n",
    "                accident_race_gender_counts[key] += 1\n",
    "\n",
    "accident_race_gender_counts"
   ]
  },
  {
   "cell_type": "markdown",
   "metadata": {
    "collapsed": true
   },
   "source": [
    "Again, for all races, fewer Females died of accident gun deaths than Males. "
   ]
  },
  {
   "cell_type": "markdown",
   "metadata": {},
   "source": [
    "# Conclusions"
   ]
  },
  {
   "cell_type": "markdown",
   "metadata": {},
   "source": [
    "While it may appear that more White individuals died from guns in the USA, once total population numbers for each race are taken into account, gun deaths are highest in Black individuals. This appears to be mostly due to the high rate of Homicides in Black Males. In contrast, White Males have the highest rate of Suicide. "
   ]
  }
 ],
 "metadata": {
  "kernelspec": {
   "display_name": "Python [python3]",
   "language": "python",
   "name": "Python [python3]"
  },
  "language_info": {
   "codemirror_mode": {
    "name": "ipython",
    "version": 3
   },
   "file_extension": ".py",
   "mimetype": "text/x-python",
   "name": "python",
   "nbconvert_exporter": "python",
   "pygments_lexer": "ipython3",
   "version": "3.6.0"
  }
 },
 "nbformat": 4,
 "nbformat_minor": 0
}
