{
 "cells": [
  {
   "cell_type": "markdown",
   "metadata": {},
   "source": [
    "# USA Births"
   ]
  },
  {
   "cell_type": "markdown",
   "metadata": {},
   "source": [
    "## Load data"
   ]
  },
  {
   "cell_type": "code",
   "execution_count": 1,
   "metadata": {
    "collapsed": false,
    "scrolled": false
   },
   "outputs": [],
   "source": [
    "csv_list = open(\"US_births_1994-2003_CDC_NCHS.csv\").read().split(\"\\n\")"
   ]
  },
  {
   "cell_type": "code",
   "execution_count": 6,
   "metadata": {
    "collapsed": false
   },
   "outputs": [
    {
     "data": {
      "text/plain": [
       "['year,month,date_of_month,day_of_week,births',\n",
       " '1994,1,1,6,8096',\n",
       " '1994,1,2,7,7772',\n",
       " '1994,1,3,1,10142',\n",
       " '1994,1,4,2,11248',\n",
       " '1994,1,5,3,11053',\n",
       " '1994,1,6,4,11406',\n",
       " '1994,1,7,5,11251',\n",
       " '1994,1,8,6,8653',\n",
       " '1994,1,9,7,7910']"
      ]
     },
     "execution_count": 6,
     "metadata": {},
     "output_type": "execute_result"
    }
   ],
   "source": [
    "csv_list[0:10]"
   ]
  },
  {
   "cell_type": "code",
   "execution_count": 7,
   "metadata": {
    "collapsed": false
   },
   "outputs": [],
   "source": [
    "def read_csv(csv_name) :\n",
    "    string_list = open(csv_name).read().split(\"\\n\")\n",
    "    firstLine = string_list.pop(0) \n",
    "    final_list = []\n",
    "    for x in string_list :\n",
    "        string_fields = x.split(\",\")\n",
    "        final_list.append(list(map(int, string_fields)))\n",
    "    return(final_list)"
   ]
  },
  {
   "cell_type": "code",
   "execution_count": 8,
   "metadata": {
    "collapsed": false
   },
   "outputs": [],
   "source": [
    "cdc_list = read_csv(\"US_births_1994-2003_CDC_NCHS.csv\")"
   ]
  },
  {
   "cell_type": "code",
   "execution_count": 9,
   "metadata": {
    "collapsed": false,
    "scrolled": true
   },
   "outputs": [
    {
     "data": {
      "text/plain": [
       "[[1994, 1, 1, 6, 8096],\n",
       " [1994, 1, 2, 7, 7772],\n",
       " [1994, 1, 3, 1, 10142],\n",
       " [1994, 1, 4, 2, 11248],\n",
       " [1994, 1, 5, 3, 11053],\n",
       " [1994, 1, 6, 4, 11406],\n",
       " [1994, 1, 7, 5, 11251],\n",
       " [1994, 1, 8, 6, 8653],\n",
       " [1994, 1, 9, 7, 7910],\n",
       " [1994, 1, 10, 1, 10498]]"
      ]
     },
     "execution_count": 9,
     "metadata": {},
     "output_type": "execute_result"
    }
   ],
   "source": [
    "cdc_list[0:10]"
   ]
  },
  {
   "cell_type": "markdown",
   "metadata": {},
   "source": [
    "# Births by Month"
   ]
  },
  {
   "cell_type": "code",
   "execution_count": 10,
   "metadata": {
    "collapsed": true
   },
   "outputs": [],
   "source": [
    "def month_births(input_list) :\n",
    "    births_per_month = {}\n",
    "    for x in input_list:\n",
    "        month = x[1]\n",
    "        births = x[4]\n",
    "        if month in births_per_month:\n",
    "            births_per_month[month] += births\n",
    "        else:\n",
    "            births_per_month[month] = births\n",
    "    return(births_per_month)"
   ]
  },
  {
   "cell_type": "code",
   "execution_count": 11,
   "metadata": {
    "collapsed": false
   },
   "outputs": [],
   "source": [
    "cdc_month_births = month_births(cdc_list)"
   ]
  },
  {
   "cell_type": "code",
   "execution_count": 12,
   "metadata": {
    "collapsed": false,
    "scrolled": false
   },
   "outputs": [
    {
     "data": {
      "text/plain": [
       "{1: 3232517,\n",
       " 2: 3018140,\n",
       " 3: 3322069,\n",
       " 4: 3185314,\n",
       " 5: 3350907,\n",
       " 6: 3296530,\n",
       " 7: 3498783,\n",
       " 8: 3525858,\n",
       " 9: 3439698,\n",
       " 10: 3378814,\n",
       " 11: 3171647,\n",
       " 12: 3301860}"
      ]
     },
     "execution_count": 12,
     "metadata": {},
     "output_type": "execute_result"
    }
   ],
   "source": [
    "cdc_month_births"
   ]
  },
  {
   "cell_type": "markdown",
   "metadata": {},
   "source": [
    "Births appear to be evenly spread across all months, which the highest being August and the lowest being Feburary. Feburary has fewer days than all the other months which could account for this difference. "
   ]
  },
  {
   "cell_type": "markdown",
   "metadata": {},
   "source": [
    "## Average Births per month"
   ]
  },
  {
   "cell_type": "code",
   "execution_count": 13,
   "metadata": {
    "collapsed": false
   },
   "outputs": [
    {
     "data": {
      "text/plain": [
       "{1: 104274,\n",
       " 2: 106836.0,\n",
       " 3: 107163,\n",
       " 4: 106177,\n",
       " 5: 108093,\n",
       " 6: 109884,\n",
       " 7: 112863,\n",
       " 8: 113737,\n",
       " 9: 114656,\n",
       " 10: 108994,\n",
       " 11: 105721,\n",
       " 12: 106511}"
      ]
     },
     "execution_count": 13,
     "metadata": {},
     "output_type": "execute_result"
    }
   ],
   "source": [
    "days_per_month = {\n",
    "    1:31, \n",
    "    2:28.25, \n",
    "    3:31, \n",
    "    4:30, \n",
    "    5:31, \n",
    "    6:30,\n",
    "    7:31, \n",
    "    8:31, \n",
    "    9:30, \n",
    "    10:31, \n",
    "    11:30, \n",
    "    12:31\n",
    "}\n",
    "\n",
    "cdc_month_births_rate = {}\n",
    "\n",
    "for key in cdc_month_births :\n",
    "    if key not in cdc_month_births_rate :\n",
    "        cdc_month_births_rate[key] = cdc_month_births[key] // days_per_month[key]\n",
    "\n",
    "cdc_month_births_rate"
   ]
  },
  {
   "cell_type": "markdown",
   "metadata": {},
   "source": [
    "This is now showing the average births per day in each Month, where there does appear to be an increase of births in July, August and September compared to the rest of the year. This could align with babies being concieved around the holiday season (Thanksgiving/Christmas/New Years). "
   ]
  },
  {
   "cell_type": "markdown",
   "metadata": {},
   "source": [
    "## Births by Day of the Week"
   ]
  },
  {
   "cell_type": "code",
   "execution_count": 14,
   "metadata": {
    "collapsed": true
   },
   "outputs": [],
   "source": [
    "def dow_births(input_list) :\n",
    "    day_of_week = {}\n",
    "    for x in input_list:\n",
    "        dow = x[3]\n",
    "        births = x[4]\n",
    "        if dow in day_of_week:\n",
    "            day_of_week[dow] += births\n",
    "        else:\n",
    "            day_of_week[dow] = births\n",
    "    return(day_of_week)"
   ]
  },
  {
   "cell_type": "code",
   "execution_count": 15,
   "metadata": {
    "collapsed": true
   },
   "outputs": [],
   "source": [
    "cdc_day_births = dow_births(cdc_list)"
   ]
  },
  {
   "cell_type": "code",
   "execution_count": 16,
   "metadata": {
    "collapsed": false,
    "scrolled": true
   },
   "outputs": [
    {
     "data": {
      "text/plain": [
       "{1: 5789166,\n",
       " 2: 6446196,\n",
       " 3: 6322855,\n",
       " 4: 6288429,\n",
       " 5: 6233657,\n",
       " 6: 4562111,\n",
       " 7: 4079723}"
      ]
     },
     "execution_count": 16,
     "metadata": {},
     "output_type": "execute_result"
    }
   ],
   "source": [
    "cdc_day_births"
   ]
  },
  {
   "cell_type": "code",
   "execution_count": 17,
   "metadata": {
    "collapsed": false
   },
   "outputs": [
    {
     "data": {
      "text/plain": [
       "[[1994, 1, 1, 6, 8096],\n",
       " [1994, 1, 2, 7, 7772],\n",
       " [1994, 1, 3, 1, 10142],\n",
       " [1994, 1, 4, 2, 11248],\n",
       " [1994, 1, 5, 3, 11053]]"
      ]
     },
     "execution_count": 17,
     "metadata": {},
     "output_type": "execute_result"
    }
   ],
   "source": [
    "cdc_list[0:5]"
   ]
  },
  {
   "cell_type": "markdown",
   "metadata": {},
   "source": [
    "## Create function to calculate births by factor desired "
   ]
  },
  {
   "cell_type": "code",
   "execution_count": 21,
   "metadata": {
    "collapsed": true
   },
   "outputs": [],
   "source": [
    "def calc_counts(data, column) :\n",
    "    results = {}\n",
    "    for x in data:\n",
    "        interest = x[column-1]\n",
    "        births = x[4]\n",
    "        if interest in results:\n",
    "            results[interest] += births\n",
    "        else:\n",
    "            results[interest] = births\n",
    "    return(results)"
   ]
  },
  {
   "cell_type": "code",
   "execution_count": 22,
   "metadata": {
    "collapsed": false
   },
   "outputs": [],
   "source": [
    "cdc_year_births = calc_counts(cdc_list, 1)\n",
    "cdc_month_births = calc_counts(cdc_list, 2)\n",
    "cdc_dom_births = calc_counts(cdc_list, 3)\n",
    "cdc_dow_births = calc_counts(cdc_list, 4)"
   ]
  },
  {
   "cell_type": "code",
   "execution_count": 23,
   "metadata": {
    "collapsed": false
   },
   "outputs": [
    {
     "data": {
      "text/plain": [
       "{1994: 3952767,\n",
       " 1995: 3899589,\n",
       " 1996: 3891494,\n",
       " 1997: 3880894,\n",
       " 1998: 3941553,\n",
       " 1999: 3959417,\n",
       " 2000: 4058814,\n",
       " 2001: 4025933,\n",
       " 2002: 4021726,\n",
       " 2003: 4089950}"
      ]
     },
     "execution_count": 23,
     "metadata": {},
     "output_type": "execute_result"
    }
   ],
   "source": [
    "cdc_year_births"
   ]
  },
  {
   "cell_type": "code",
   "execution_count": 24,
   "metadata": {
    "collapsed": false
   },
   "outputs": [
    {
     "data": {
      "text/plain": [
       "{1: 3232517,\n",
       " 2: 3018140,\n",
       " 3: 3322069,\n",
       " 4: 3185314,\n",
       " 5: 3350907,\n",
       " 6: 3296530,\n",
       " 7: 3498783,\n",
       " 8: 3525858,\n",
       " 9: 3439698,\n",
       " 10: 3378814,\n",
       " 11: 3171647,\n",
       " 12: 3301860}"
      ]
     },
     "execution_count": 24,
     "metadata": {},
     "output_type": "execute_result"
    }
   ],
   "source": [
    "cdc_month_births"
   ]
  },
  {
   "cell_type": "code",
   "execution_count": 25,
   "metadata": {
    "collapsed": false
   },
   "outputs": [
    {
     "data": {
      "text/plain": [
       "{1: 1276557,\n",
       " 2: 1288739,\n",
       " 3: 1304499,\n",
       " 4: 1288154,\n",
       " 5: 1299953,\n",
       " 6: 1304474,\n",
       " 7: 1310459,\n",
       " 8: 1312297,\n",
       " 9: 1303292,\n",
       " 10: 1320764,\n",
       " 11: 1314361,\n",
       " 12: 1318437,\n",
       " 13: 1277684,\n",
       " 14: 1320153,\n",
       " 15: 1319171,\n",
       " 16: 1315192,\n",
       " 17: 1324953,\n",
       " 18: 1326855,\n",
       " 19: 1318727,\n",
       " 20: 1324821,\n",
       " 21: 1322897,\n",
       " 22: 1317381,\n",
       " 23: 1293290,\n",
       " 24: 1288083,\n",
       " 25: 1272116,\n",
       " 26: 1284796,\n",
       " 27: 1294395,\n",
       " 28: 1307685,\n",
       " 29: 1223161,\n",
       " 30: 1202095,\n",
       " 31: 746696}"
      ]
     },
     "execution_count": 25,
     "metadata": {},
     "output_type": "execute_result"
    }
   ],
   "source": [
    "cdc_dom_births"
   ]
  },
  {
   "cell_type": "code",
   "execution_count": 26,
   "metadata": {
    "collapsed": false,
    "scrolled": true
   },
   "outputs": [
    {
     "data": {
      "text/plain": [
       "{1: 5789166,\n",
       " 2: 6446196,\n",
       " 3: 6322855,\n",
       " 4: 6288429,\n",
       " 5: 6233657,\n",
       " 6: 4562111,\n",
       " 7: 4079723}"
      ]
     },
     "execution_count": 26,
     "metadata": {},
     "output_type": "execute_result"
    }
   ],
   "source": [
    "cdc_dow_births"
   ]
  },
  {
   "cell_type": "markdown",
   "metadata": {},
   "source": [
    "### Get Min and Max number of Births for days of the week"
   ]
  },
  {
   "cell_type": "code",
   "execution_count": 27,
   "metadata": {
    "collapsed": true
   },
   "outputs": [],
   "source": [
    "def min_and_max(input_dict) : \n",
    "    min_value = min(input_dict.items())\n",
    "    max_value = max(input_dict.items())\n",
    "    return(min_value, max_value)"
   ]
  },
  {
   "cell_type": "code",
   "execution_count": 28,
   "metadata": {
    "collapsed": false,
    "scrolled": true
   },
   "outputs": [
    {
     "data": {
      "text/plain": [
       "((1, 5789166), (7, 4079723))"
      ]
     },
     "execution_count": 28,
     "metadata": {},
     "output_type": "execute_result"
    }
   ],
   "source": [
    "min_and_max(cdc_dow_births)"
   ]
  },
  {
   "cell_type": "markdown",
   "metadata": {},
   "source": [
    "Sunday (1) appears to have the most births whereas Saturday (7) has the fewest. "
   ]
  },
  {
   "cell_type": "markdown",
   "metadata": {},
   "source": [
    "## Calculate differences by year"
   ]
  },
  {
   "cell_type": "code",
   "execution_count": 55,
   "metadata": {
    "collapsed": false
   },
   "outputs": [],
   "source": [
    "def per_year(data, column, column_value) :\n",
    "    results = {}\n",
    "    years = list(set([item[0] for item in data]))\n",
    "    for x in years:\n",
    "        for y in data:\n",
    "            if y[0] == x and y[column-1] == column_value :\n",
    "                key = str(y[0]) + \"_\" + str(y[column-1])\n",
    "                interest = y[column-1]\n",
    "                births = y[4]     \n",
    "                if key in results:\n",
    "                    results[key] += births\n",
    "                else:\n",
    "                    results[key] = births\n",
    "    return(results)       "
   ]
  },
  {
   "cell_type": "code",
   "execution_count": 71,
   "metadata": {
    "collapsed": false,
    "scrolled": false
   },
   "outputs": [
    {
     "name": "stdout",
     "output_type": "stream",
     "text": [
      "{'1994_1': 320705, '1995_1': 316013, '1996_1': 314283, '1997_1': 317211, '1998_1': 319340, '1999_1': 319182, '2000_1': 330108, '2001_1': 335198, '2002_1': 330674, '2003_1': 329803}\n",
      "{'1994_2': 301327, '1995_2': 295094, '1996_2': 301763, '1997_2': 291541, '1998_2': 298711, '1999_2': 297568, '2000_2': 317377, '2001_2': 303534, '2002_2': 303977, '2003_2': 307248}\n",
      "{'1994_3': 339736, '1995_3': 328503, '1996_3': 322581, '1997_3': 321212, '1998_3': 329436, '1999_3': 332939, '2000_3': 340553, '2001_3': 338684, '2002_3': 331505, '2003_3': 336920}\n",
      "{'1994_4': 317392, '1995_4': 309119, '1996_4': 312595, '1997_4': 314230, '1998_4': 319758, '1999_4': 316889, '2000_4': 317180, '2001_4': 323613, '2002_4': 324432, '2003_4': 330106}\n",
      "{'1994_5': 330295, '1995_5': 334543, '1996_5': 325708, '1997_5': 330331, '1998_5': 330519, '1999_5': 328526, '2000_5': 341207, '2001_5': 344017, '2002_5': 339007, '2003_5': 346754}\n",
      "{'1994_6': 329737, '1995_6': 329805, '1996_6': 318525, '1997_6': 321867, '1998_6': 327091, '1999_6': 332201, '2000_6': 341206, '2001_6': 331085, '2002_6': 327588, '2003_6': 337425}\n",
      "{'1994_7': 345862, '1995_7': 340873, '1996_7': 345162, '1997_7': 346506, '1998_7': 348651, '1999_7': 349812, '2000_7': 348975, '2001_7': 351047, '2002_7': 357669, '2003_7': 364226}\n",
      "{'1994_8': 352173, '1995_8': 350737, '1996_8': 346317, '1997_8': 339122, '1998_8': 344736, '1999_8': 351371, '2000_8': 360080, '2001_8': 361802, '2002_8': 359417, '2003_8': 360103}\n",
      "{'1994_9': 339223, '1995_9': 339103, '1996_9': 336348, '1997_9': 333600, '1998_9': 343384, '1999_9': 349409, '2000_9': 347609, '2001_9': 342564, '2002_9': 348814, '2003_9': 359644}\n",
      "{'1994_10': 330172, '1995_10': 330012, '1996_10': 336346, '1997_10': 328657, '1998_10': 332790, '1999_10': 332980, '2000_10': 343921, '2001_10': 344074, '2002_10': 345814, '2003_10': 354048}\n",
      "{'1994_11': 319397, '1995_11': 310817, '1996_11': 309397, '1997_11': 307282, '1998_11': 313241, '1999_11': 315289, '2000_11': 333811, '2001_11': 323746, '2002_11': 318573, '2003_11': 320094}\n",
      "{'1994_12': 326748, '1995_12': 314970, '1996_12': 322469, '1997_12': 329335, '1998_12': 333896, '1999_12': 333251, '2000_12': 336787, '2001_12': 326569, '2002_12': 334256, '2003_12': 343579}\n"
     ]
    }
   ],
   "source": [
    "for i in range(1,13) : \n",
    "    print(per_year(cdc_list, 2, i))"
   ]
  },
  {
   "cell_type": "code",
   "execution_count": 72,
   "metadata": {
    "collapsed": true
   },
   "outputs": [],
   "source": [
    "cdc_per_year = per_year(cdc_list, 2, 12)"
   ]
  },
  {
   "cell_type": "code",
   "execution_count": 73,
   "metadata": {
    "collapsed": false
   },
   "outputs": [],
   "source": [
    "def diff_per_year(input_dict) :\n",
    "    results = {}\n",
    "    keyList=sorted(input_dict.keys())\n",
    "    for i,v in enumerate(keyList):\n",
    "        date_check = v.split(\"_\")[0]\n",
    "        if date_check == 2003 :\n",
    "            continue\n",
    "        if v not in results:\n",
    "            results[v] = input_dict[keyList[i]] - input_dict[keyList[i-1]]\n",
    "    return(results)\n"
   ]
  },
  {
   "cell_type": "code",
   "execution_count": 74,
   "metadata": {
    "collapsed": false
   },
   "outputs": [
    {
     "data": {
      "text/plain": [
       "{'1994_12': -16831,\n",
       " '1995_12': -11778,\n",
       " '1996_12': 7499,\n",
       " '1997_12': 6866,\n",
       " '1998_12': 4561,\n",
       " '1999_12': -645,\n",
       " '2000_12': 3536,\n",
       " '2001_12': -10218,\n",
       " '2002_12': 7687,\n",
       " '2003_12': 9323}"
      ]
     },
     "execution_count": 74,
     "metadata": {},
     "output_type": "execute_result"
    }
   ],
   "source": [
    "cdc_diff_per_year = diff_per_year(cdc_per_year)\n",
    "cdc_diff_per_year"
   ]
  },
  {
   "cell_type": "markdown",
   "metadata": {},
   "source": [
    "Examine the difference in the number of births per year for a particular column of interest and particular variable. Here being births in December. "
   ]
  },
  {
   "cell_type": "code",
   "execution_count": null,
   "metadata": {
    "collapsed": true
   },
   "outputs": [],
   "source": []
  }
 ],
 "metadata": {
  "anaconda-cloud": {},
  "kernelspec": {
   "display_name": "Python [python3]",
   "language": "python",
   "name": "Python [python3]"
  },
  "language_info": {
   "codemirror_mode": {
    "name": "ipython",
    "version": 3
   },
   "file_extension": ".py",
   "mimetype": "text/x-python",
   "name": "python",
   "nbconvert_exporter": "python",
   "pygments_lexer": "ipython3",
   "version": "3.6.0"
  }
 },
 "nbformat": 4,
 "nbformat_minor": 1
}
